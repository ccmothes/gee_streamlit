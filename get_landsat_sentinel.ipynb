{
 "cells": [
  {
   "cell_type": "markdown",
   "id": "5843033e",
   "metadata": {},
   "source": [
    "# Set up code for Streamlit app that maps most recent image from Sentinel and Landsat"
   ]
  },
  {
   "cell_type": "code",
   "execution_count": 2,
   "id": "741453fa",
   "metadata": {},
   "outputs": [],
   "source": [
    "import geemap\n",
    "# Authenticates and initializes Earth Engine\n",
    "import ee\n",
    "\n",
    "try:\n",
    "        ee.Initialize()\n",
    "except Exception as e:\n",
    "        ee.Authenticate()\n",
    "        ee.Initialize()\n"
   ]
  },
  {
   "cell_type": "markdown",
   "id": "9e70e42d",
   "metadata": {},
   "source": [
    "### Set bounding box for region of interest"
   ]
  },
  {
   "cell_type": "code",
   "execution_count": 3,
   "id": "58f8d416",
   "metadata": {},
   "outputs": [],
   "source": [
    "region = ee.Geometry.BBox(-105.89218, 40.27989, -105.17284, 40.72316)"
   ]
  },
  {
   "cell_type": "markdown",
   "id": "f1605228",
   "metadata": {},
   "source": [
    "### Get image collections for Sentinel 2 and Landsat 8 & 9"
   ]
  },
  {
   "cell_type": "code",
   "execution_count": 39,
   "id": "14b3115f",
   "metadata": {},
   "outputs": [],
   "source": [
    "# need to use Harmonized Sentinel collection because post Jan 2022 bands are different\n",
    "sent2 = ee.ImageCollection(\"COPERNICUS/S2_SR_HARMONIZED\") \\\n",
    "  .filterBounds(region)\n",
    "    \n",
    "land8 = ee.ImageCollection('LANDSAT/LC08/C02/T1_L2') \\\n",
    "    .filterBounds(region)\n",
    "\n",
    "\n",
    "land9 = ee.ImageCollection('LANDSAT/LC09/C02/T1_L2') \\\n",
    "    .filterBounds(region)\n",
    "\n",
    "# later on, consider adding cloud mask function\n",
    "  "
   ]
  },
  {
   "cell_type": "code",
   "execution_count": 105,
   "id": "bb1c82c2",
   "metadata": {},
   "outputs": [],
   "source": [
    "# add \"SPACECRAFT_ID\" attribute to match landsat so can pull spacecraft name from chosen image\n",
    "sent2 = sent2.map(lambda x: x.set('SPACECRAFT_ID', 'Sentinel-2A'))"
   ]
  },
  {
   "cell_type": "markdown",
   "id": "b032680f",
   "metadata": {},
   "source": [
    "### Create function to get image closest to date of interest"
   ]
  },
  {
   "cell_type": "code",
   "execution_count": 40,
   "id": "94cb40b5",
   "metadata": {},
   "outputs": [],
   "source": [
    "def date_fun(image):\n",
    "    return image.set(\n",
    "    'dateDist',\n",
    "    ee.Number(image.get('system:time_start')).subtract(dateOfInterest).abs()\n",
    "    )"
   ]
  },
  {
   "cell_type": "code",
   "execution_count": 126,
   "id": "941a5f84",
   "metadata": {},
   "outputs": [
    {
     "name": "stdout",
     "output_type": "stream",
     "text": [
      "1649829600000.0\n"
     ]
    }
   ],
   "source": [
    "# Define date of interest\n",
    "\n",
    "from datetime import datetime\n",
    "\n",
    "dateOfInterest = datetime.strptime(\"2022-04-13\", '%Y-%m-%d').timestamp()*1000\n",
    "print(dateOfInterest) "
   ]
  },
  {
   "cell_type": "markdown",
   "id": "208220fa",
   "metadata": {},
   "source": [
    "### Apply function to each collection"
   ]
  },
  {
   "cell_type": "code",
   "execution_count": 51,
   "id": "76cc4e9d",
   "metadata": {},
   "outputs": [],
   "source": [
    "sent2sort = sent2.map(date_fun).sort('dateDist')\n",
    "\n",
    "land8sort = land8.map(date_fun).sort('dateDist')\n",
    "\n",
    "land9sort = land9.map(date_fun).sort('dateDist')"
   ]
  },
  {
   "cell_type": "markdown",
   "id": "b82b7d41",
   "metadata": {},
   "source": [
    "### Check that each is sorting correctly"
   ]
  },
  {
   "cell_type": "code",
   "execution_count": 52,
   "id": "396aba97",
   "metadata": {},
   "outputs": [
    {
     "data": {
      "text/plain": [
       "'2021-09-28'"
      ]
     },
     "execution_count": 52,
     "metadata": {},
     "output_type": "execute_result"
    }
   ],
   "source": [
    "sent2sort.first().date().format('YYYY-MM-dd').getInfo()\n"
   ]
  },
  {
   "cell_type": "code",
   "execution_count": 53,
   "id": "6fcbc1ec",
   "metadata": {},
   "outputs": [
    {
     "data": {
      "text/plain": [
       "'2021-10-02'"
      ]
     },
     "execution_count": 53,
     "metadata": {},
     "output_type": "execute_result"
    }
   ],
   "source": [
    "land8sort.first().date().format('YYYY-MM-dd').getInfo()"
   ]
  },
  {
   "cell_type": "code",
   "execution_count": 49,
   "id": "bef964df",
   "metadata": {},
   "outputs": [
    {
     "data": {
      "text/plain": [
       "['2021-11-12',\n",
       " '2021-11-22',\n",
       " '2021-12-04',\n",
       " '2021-12-13',\n",
       " '2021-12-20',\n",
       " '2021-12-29',\n",
       " '2022-01-05',\n",
       " '2022-01-14',\n",
       " '2022-01-30',\n",
       " '2022-02-06',\n",
       " '2022-02-15',\n",
       " '2022-02-22',\n",
       " '2022-03-03',\n",
       " '2022-03-10',\n",
       " '2022-03-19',\n",
       " '2022-03-26',\n",
       " '2022-04-04',\n",
       " '2022-04-11',\n",
       " '2022-04-20',\n",
       " '2022-04-27']"
      ]
     },
     "execution_count": 49,
     "metadata": {},
     "output_type": "execute_result"
    }
   ],
   "source": [
    "\n",
    "land9sort.aggregate_array('DATE_ACQUIRED').getInfo()"
   ]
  },
  {
   "cell_type": "markdown",
   "id": "137b67bb",
   "metadata": {},
   "source": [
    "### Merge datasets and sort to get most recent image of all collections"
   ]
  },
  {
   "cell_type": "code",
   "execution_count": 107,
   "id": "64f6165e",
   "metadata": {},
   "outputs": [],
   "source": [
    "collection = sent2.merge(land8).merge(land9)"
   ]
  },
  {
   "cell_type": "code",
   "execution_count": 127,
   "id": "8e2afa13",
   "metadata": {},
   "outputs": [],
   "source": [
    "collectionSort = collection.map(date_fun).sort('dateDist')"
   ]
  },
  {
   "cell_type": "code",
   "execution_count": 113,
   "id": "b0ee10a6",
   "metadata": {},
   "outputs": [
    {
     "data": {
      "text/plain": [
       "'2022-03-27'"
      ]
     },
     "execution_count": 113,
     "metadata": {},
     "output_type": "execute_result"
    }
   ],
   "source": [
    "collectionSort.first().date().format('YYYY-MM-dd').getInfo()"
   ]
  },
  {
   "cell_type": "code",
   "execution_count": 119,
   "id": "da5c5ea5",
   "metadata": {},
   "outputs": [
    {
     "data": {
      "text/plain": [
       "['SR_B1',\n",
       " 'SR_B2',\n",
       " 'SR_B3',\n",
       " 'SR_B4',\n",
       " 'SR_B5',\n",
       " 'SR_B6',\n",
       " 'SR_B7',\n",
       " 'SR_QA_AEROSOL',\n",
       " 'ST_B10',\n",
       " 'ST_ATRAN',\n",
       " 'ST_CDIST',\n",
       " 'ST_DRAD',\n",
       " 'ST_EMIS',\n",
       " 'ST_EMSD',\n",
       " 'ST_QA',\n",
       " 'ST_TRAD',\n",
       " 'ST_URAD',\n",
       " 'QA_PIXEL',\n",
       " 'QA_RADSAT']"
      ]
     },
     "execution_count": 119,
     "metadata": {},
     "output_type": "execute_result"
    }
   ],
   "source": [
    "collectionSort.first().bandNames().getInfo()"
   ]
  },
  {
   "cell_type": "code",
   "execution_count": 128,
   "id": "9b7dfe66",
   "metadata": {},
   "outputs": [
    {
     "data": {
      "text/plain": [
       "'Sentinel-2A'"
      ]
     },
     "execution_count": 128,
     "metadata": {},
     "output_type": "execute_result"
    }
   ],
   "source": [
    "collectionSort.first().get('SPACECRAFT_ID').getInfo()"
   ]
  },
  {
   "cell_type": "code",
   "execution_count": 129,
   "id": "20af5885",
   "metadata": {},
   "outputs": [
    {
     "data": {
      "text/plain": [
       "['SR_B1',\n",
       " 'SR_B2',\n",
       " 'SR_B3',\n",
       " 'SR_B4',\n",
       " 'SR_B5',\n",
       " 'SR_B6',\n",
       " 'SR_B7',\n",
       " 'SR_QA_AEROSOL',\n",
       " 'ST_B10',\n",
       " 'ST_ATRAN',\n",
       " 'ST_CDIST',\n",
       " 'ST_DRAD',\n",
       " 'ST_EMIS',\n",
       " 'ST_EMSD',\n",
       " 'ST_QA',\n",
       " 'ST_TRAD',\n",
       " 'ST_URAD',\n",
       " 'QA_PIXEL',\n",
       " 'QA_RADSAT']"
      ]
     },
     "execution_count": 129,
     "metadata": {},
     "output_type": "execute_result"
    }
   ],
   "source": [
    "land8.first().bandNames().getInfo()"
   ]
  },
  {
   "cell_type": "code",
   "execution_count": null,
   "id": "3cf444c3",
   "metadata": {},
   "outputs": [],
   "source": []
  }
 ],
 "metadata": {
  "kernelspec": {
   "display_name": "Python 3 (ipykernel)",
   "language": "python",
   "name": "python3"
  },
  "language_info": {
   "codemirror_mode": {
    "name": "ipython",
    "version": 3
   },
   "file_extension": ".py",
   "mimetype": "text/x-python",
   "name": "python",
   "nbconvert_exporter": "python",
   "pygments_lexer": "ipython3",
   "version": "3.9.12"
  }
 },
 "nbformat": 4,
 "nbformat_minor": 5
}
