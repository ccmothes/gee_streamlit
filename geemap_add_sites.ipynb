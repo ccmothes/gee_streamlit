{
 "cells": [
  {
   "cell_type": "markdown",
   "id": "43074666",
   "metadata": {},
   "source": [
    "# Add points to geemap: CP Study Sites"
   ]
  },
  {
   "cell_type": "code",
   "execution_count": 1,
   "id": "aaed8bdb",
   "metadata": {},
   "outputs": [],
   "source": [
    "import geemap\n",
    "import pandas as pd"
   ]
  },
  {
   "cell_type": "code",
   "execution_count": 2,
   "id": "babdab8d",
   "metadata": {},
   "outputs": [],
   "source": [
    "# Read in study site csv\n",
    "sites = pd.read_csv(\"C:/Users/ccmothes/Desktop/poudrePortal/data/poudreportal_sites.csv\")"
   ]
  },
  {
   "cell_type": "code",
   "execution_count": 3,
   "id": "1f9355c7",
   "metadata": {},
   "outputs": [
    {
     "name": "stdout",
     "output_type": "stream",
     "text": [
      "                    Site source        long        lat\n",
      "0   Laramie River Tunnel   USFS -105.808214  40.667944\n",
      "1          Andrews Creek    CSU -105.666644  40.290105\n",
      "2          Bighorn Creek    CSU -105.594720  40.409582\n",
      "3              Dry Creek    CSU -105.639219  40.706316\n",
      "4         Michigan River    CSU -105.865074  40.496216\n",
      "5             Mill Creek    CSU -105.173018  40.559726\n",
      "6                6746095   USGS -105.882790  40.539982\n",
      "7                6746110   USGS -105.863900  40.561926\n",
      "8                6751150   USGS -105.338041  40.878316\n",
      "9                6751490   USGS -105.252205  40.787481\n",
      "10               6752260   USGS -105.069222  40.588083\n",
      "11               6752280   USGS -105.011365  40.551927\n",
      "12                Beaver   USFS -105.593915  40.579219\n",
      "13               Roaring   USFS -105.737387  40.716984\n",
      "14             Sevenmile   USFS -105.587764  40.705688\n",
      "15           BlackHollow   USFS -105.648952  40.698543\n",
      "16               Bennett   USFS -105.540938  40.658216\n",
      "17            Lions_Park   FoCo -105.139595  40.621334\n",
      "18        Manners_Bridge   FoCo -105.268889  40.696667\n",
      "19        Indian_Meadows   FoCo -105.539667  40.700160\n",
      "20           Poudre_Park   FoCo -105.311389  40.688333\n",
      "21    Poudre_River_Mouth   FoCo -105.223333  40.664722\n",
      "22                Rustic   FoCo -105.544942  40.699993\n",
      "23               6751145   USGS -105.367222  40.894583\n",
      "24                  Fish   USFS -105.536748  40.606953\n",
      "25         Little Beaver   USFS -105.527276  40.625461\n",
      "26               Pennock   USFS -105.544363  40.579275\n",
      "27       South Lone Pine   USFS -105.600295  40.788150\n",
      "28           Upper Sheep   USFS -105.622979  40.695226\n",
      "29       Buckhorn_Canyon   FoCo -105.312778  40.566667\n",
      "30               Deadman   USFS -105.802071  40.814465\n",
      "31                  Fall   USFS -105.867345  40.600192\n"
     ]
    }
   ],
   "source": [
    "print(sites)"
   ]
  },
  {
   "cell_type": "code",
   "execution_count": 7,
   "id": "44914990",
   "metadata": {},
   "outputs": [
    {
     "data": {
      "application/vnd.jupyter.widget-view+json": {
       "model_id": "b734979bd49a4c54aa89084ccd9e9544",
       "version_major": 2,
       "version_minor": 0
      },
      "text/plain": [
       "Map(center=[20, 0], controls=(WidgetControl(options=['position', 'transparent_bg'], widget=HBox(children=(Togg…"
      ]
     },
     "metadata": {},
     "output_type": "display_data"
    }
   ],
   "source": [
    "m = geemap.Map(layer_ctrl = True)\n",
    "m.add_points_from_xy(sites, x=\"long\", y=\"lat\", layer_name = \"Study Sites\")\n",
    "m"
   ]
  },
  {
   "cell_type": "code",
   "execution_count": 9,
   "id": "924fc98b",
   "metadata": {},
   "outputs": [],
   "source": [
    "# try adding sites from github\n",
    "sites2 = pd.read_csv(\"https://raw.githubusercontent.com/ccmothes/gee_streamlit/master/poudreportal_sites.csv\")\n"
   ]
  },
  {
   "cell_type": "code",
   "execution_count": 10,
   "id": "3e603e58",
   "metadata": {},
   "outputs": [
    {
     "name": "stdout",
     "output_type": "stream",
     "text": [
      "                    Site source        long        lat\n",
      "0   Laramie River Tunnel   USFS -105.808214  40.667944\n",
      "1          Andrews Creek    CSU -105.666644  40.290105\n",
      "2          Bighorn Creek    CSU -105.594720  40.409582\n",
      "3              Dry Creek    CSU -105.639219  40.706316\n",
      "4         Michigan River    CSU -105.865074  40.496216\n",
      "5             Mill Creek    CSU -105.173018  40.559726\n",
      "6                6746095   USGS -105.882790  40.539982\n",
      "7                6746110   USGS -105.863900  40.561926\n",
      "8                6751150   USGS -105.338041  40.878316\n",
      "9                6751490   USGS -105.252205  40.787481\n",
      "10               6752260   USGS -105.069222  40.588083\n",
      "11               6752280   USGS -105.011365  40.551927\n",
      "12                Beaver   USFS -105.593915  40.579219\n",
      "13               Roaring   USFS -105.737387  40.716984\n",
      "14             Sevenmile   USFS -105.587764  40.705688\n",
      "15           BlackHollow   USFS -105.648952  40.698543\n",
      "16               Bennett   USFS -105.540938  40.658216\n",
      "17            Lions_Park   FoCo -105.139595  40.621334\n",
      "18        Manners_Bridge   FoCo -105.268889  40.696667\n",
      "19        Indian_Meadows   FoCo -105.539667  40.700160\n",
      "20           Poudre_Park   FoCo -105.311389  40.688333\n",
      "21    Poudre_River_Mouth   FoCo -105.223333  40.664722\n",
      "22                Rustic   FoCo -105.544942  40.699993\n",
      "23               6751145   USGS -105.367222  40.894583\n",
      "24                  Fish   USFS -105.536748  40.606953\n",
      "25         Little Beaver   USFS -105.527276  40.625461\n",
      "26               Pennock   USFS -105.544363  40.579275\n",
      "27       South Lone Pine   USFS -105.600295  40.788150\n",
      "28           Upper Sheep   USFS -105.622979  40.695226\n",
      "29       Buckhorn_Canyon   FoCo -105.312778  40.566667\n",
      "30               Deadman   USFS -105.802071  40.814465\n",
      "31                  Fall   USFS -105.867345  40.600192\n"
     ]
    }
   ],
   "source": [
    "print(sites2)"
   ]
  },
  {
   "cell_type": "code",
   "execution_count": null,
   "id": "b34ac8b2",
   "metadata": {},
   "outputs": [],
   "source": []
  }
 ],
 "metadata": {
  "kernelspec": {
   "display_name": "Python 3 (ipykernel)",
   "language": "python",
   "name": "python3"
  },
  "language_info": {
   "codemirror_mode": {
    "name": "ipython",
    "version": 3
   },
   "file_extension": ".py",
   "mimetype": "text/x-python",
   "name": "python",
   "nbconvert_exporter": "python",
   "pygments_lexer": "ipython3",
   "version": "3.9.12"
  }
 },
 "nbformat": 4,
 "nbformat_minor": 5
}
