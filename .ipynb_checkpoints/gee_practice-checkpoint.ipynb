{
 "cells": [
  {
   "cell_type": "markdown",
   "metadata": {
    "id": "LShxKSA-rwRt"
   },
   "source": [
    "# Install Earth Engine API and gee\n",
    "This code checks if the `geemap` package has been installed, and if not it will install `geemap` and its dependencies including earthengine-api, ipyleaflet, and folium.\n",
    "\n",
    "All code adapted from https://github.com/giswqs/geemap and https://github.com/giswqs/earthengine-py-notebooks by Qiusheng Wu \n"
   ]
  },
  {
   "cell_type": "code",
   "execution_count": 1,
   "metadata": {
    "colab": {
     "base_uri": "https://localhost:8080/",
     "height": 193
    },
    "id": "Tmuczg16ij_w",
    "outputId": "476a95a6-bac2-4057-d062-60518f20b8bb"
   },
   "outputs": [
    {
     "ename": "ModuleNotFoundError",
     "evalue": "No module named 'geemap'",
     "output_type": "error",
     "traceback": [
      "\u001b[1;31m---------------------------------------------------------------------------\u001b[0m",
      "\u001b[1;31mModuleNotFoundError\u001b[0m                       Traceback (most recent call last)",
      "Input \u001b[1;32mIn [1]\u001b[0m, in \u001b[0;36m<cell line: 1>\u001b[1;34m()\u001b[0m\n\u001b[1;32m----> 1\u001b[0m \u001b[38;5;28;01mimport\u001b[39;00m \u001b[38;5;21;01mgeemap\u001b[39;00m\n\u001b[0;32m      2\u001b[0m \u001b[38;5;66;03m# Authenticates and initializes Earth Engine\u001b[39;00m\n\u001b[0;32m      3\u001b[0m \u001b[38;5;28;01mimport\u001b[39;00m \u001b[38;5;21;01mee\u001b[39;00m\n",
      "\u001b[1;31mModuleNotFoundError\u001b[0m: No module named 'geemap'"
     ]
    }
   ],
   "source": [
    "import geemap\n",
    "# Authenticates and initializes Earth Engine\n",
    "import ee\n",
    "\n",
    "try:\n",
    "        ee.Initialize()\n",
    "except Exception as e:\n",
    "        ee.Authenticate()\n",
    "        ee.Initialize()\n"
   ]
  },
  {
   "cell_type": "markdown",
   "metadata": {
    "id": "32wT_PXX0FZS"
   },
   "source": [
    "# Set bounding box for map and image collection\n"
   ]
  },
  {
   "cell_type": "code",
   "execution_count": 3,
   "metadata": {
    "id": "PiVs8GI4z_VK"
   },
   "outputs": [],
   "source": [
    "region = ee.Geometry.BBox(-105.89218, 40.27989, -105.17284, 40.72316)"
   ]
  },
  {
   "cell_type": "markdown",
   "metadata": {
    "id": "h023n3IwB5yS"
   },
   "source": [
    "# Get image collection"
   ]
  },
  {
   "cell_type": "code",
   "execution_count": 4,
   "metadata": {
    "id": "vDPDgIfoB_-b"
   },
   "outputs": [],
   "source": [
    "# first get today's date\n",
    "from datetime import date\n",
    "today = date.today()\n",
    "d1 = today.strftime(\"%Y-%m-%d\")\n",
    "\n",
    "collection = ee.ImageCollection(\"COPERNICUS/S2_SR\") \\\n",
    "  .filterDate('2021-01-01', d1) \\\n",
    "  .filterBounds(region) \\\n",
    "  .filter(ee.Filter.lt('CLOUDY_PIXEL_PERCENTAGE', 10)) \\\n",
    "  .median()"
   ]
  },
  {
   "cell_type": "markdown",
   "metadata": {
    "id": "fHWnMq6oEk4X"
   },
   "source": [
    "# Set viz parameters for three different layers"
   ]
  },
  {
   "cell_type": "code",
   "execution_count": 5,
   "metadata": {
    "id": "uvCKcLUbEtBm"
   },
   "outputs": [],
   "source": [
    "# true color\n",
    "vizTC = {\n",
    "    'bands' : ['B4', 'B3', 'B2'],\n",
    "    'min': 300,\n",
    "    'max': 1600\n",
    "}\n",
    "\n",
    "vizSnow = {\n",
    "    'bands': ['MSK_SNWPRB'],\n",
    "    'min': 0,\n",
    "    'max': 1,\n",
    "    'palette': ['FFFFFF', 'FF0000']\n",
    "}\n",
    "\n",
    "vizFire = {\n",
    "    'bands': ['B12', 'B8', 'B4'],\n",
    "    'min': 600,\n",
    "    'max': 2300\n",
    "}"
   ]
  },
  {
   "cell_type": "markdown",
   "metadata": {
    "id": "Yo2dzoxj74tC"
   },
   "source": [
    "# Create an interactive map\n"
   ]
  },
  {
   "cell_type": "code",
   "execution_count": 6,
   "metadata": {
    "colab": {
     "base_uri": "https://localhost:8080/",
     "height": 820
    },
    "id": "ea0mqL0K1qGx",
    "outputId": "7cfad709-29b7-40b1-f432-b9fb1131300b"
   },
   "outputs": [
    {
     "data": {
      "application/vnd.jupyter.widget-view+json": {
       "model_id": "8c0e74981d5a4baf9b7c90260c7c7669",
       "version_major": 2,
       "version_minor": 0
      },
      "text/plain": [
       "Map(center=[40.501466743410354, -105.53251000000024], controls=(WidgetControl(options=['position', 'transparen…"
      ]
     },
     "metadata": {},
     "output_type": "display_data"
    }
   ],
   "source": [
    "Map = geemap.Map(add_google_map = False, layer_ctrl = True)\n",
    "#center around region of interest\n",
    "Map.centerObject(region, zoom = 9)\n",
    "\n",
    "Map.addLayer(collection, vizTC, 'True Color')\n",
    "Map.addLayer(collection, vizSnow, \"Snow Probability\")\n",
    "Map.addLayer(collection, vizFire, \"Wildfire\")\n",
    "Map\n",
    "\n"
   ]
  },
  {
   "cell_type": "code",
   "execution_count": null,
   "metadata": {},
   "outputs": [],
   "source": []
  }
 ],
 "metadata": {
  "colab": {
   "name": "gee_practice.ipynb",
   "provenance": []
  },
  "kernelspec": {
   "display_name": "Python 3 (ipykernel)",
   "language": "python",
   "name": "python3"
  },
  "language_info": {
   "codemirror_mode": {
    "name": "ipython",
    "version": 3
   },
   "file_extension": ".py",
   "mimetype": "text/x-python",
   "name": "python",
   "nbconvert_exporter": "python",
   "pygments_lexer": "ipython3",
   "version": "3.9.12"
  }
 },
 "nbformat": 4,
 "nbformat_minor": 1
}
