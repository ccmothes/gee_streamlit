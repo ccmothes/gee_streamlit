{
 "cells": [
  {
   "cell_type": "markdown",
   "id": "cdd72410",
   "metadata": {},
   "source": [
    "# Set up code for Streamlit app that maps most recent image from Sentinel and Landsat"
   ]
  },
  {
   "cell_type": "code",
   "execution_count": 3,
   "id": "4c26b451",
   "metadata": {},
   "outputs": [],
   "source": [
    "import geemap\n",
    "# Authenticates and initializes Earth Engine\n",
    "import ee\n",
    "\n",
    "try:\n",
    "        ee.Initialize()\n",
    "except Exception as e:\n",
    "        ee.Authenticate()\n",
    "        ee.Initialize()\n"
   ]
  },
  {
   "cell_type": "markdown",
   "id": "5e558d49",
   "metadata": {},
   "source": [
    "### Set bounding box for region of interest"
   ]
  },
  {
   "cell_type": "code",
   "execution_count": 4,
   "id": "26aa18d5",
   "metadata": {},
   "outputs": [],
   "source": [
    "region = ee.Geometry.BBox(-105.89218, 40.27989, -105.17284, 40.72316)"
   ]
  },
  {
   "cell_type": "markdown",
   "id": "2af070fb",
   "metadata": {},
   "source": [
    "### Get image collections for Sentinel 2 and Landsat 8 & 9"
   ]
  },
  {
   "cell_type": "code",
   "execution_count": 19,
   "id": "98ee61ee",
   "metadata": {},
   "outputs": [],
   "source": [
    "# need to use Harmonized Sentinel collection because post Jan 2022 bands are different\n",
    "sent2 = ee.ImageCollection(\"COPERNICUS/S2_SR_HARMONIZED\") \\\n",
    "  .filterBounds(region)\n",
    "  \n",
    "#function to apply scaling factors for viz: https://geemap.org/notebooks/99_landsat_9/\n",
    "def apply_scale_factors(image):\n",
    "    opticalBands = image.select('SR_B.').multiply(0.0000275).add(-0.2)\n",
    "    thermalBands = image.select('ST_B.*').multiply(0.00341802).add(149.0)\n",
    "    return image.addBands(opticalBands, None, True).addBands(thermalBands, None, True)\n",
    "    \n",
    "land8 = ee.ImageCollection('LANDSAT/LC08/C02/T1_L2') \\\n",
    "    .filterBounds(region) \\\n",
    "    .map(apply_scale_factors)\n",
    "\n",
    "\n",
    "land9 = ee.ImageCollection('LANDSAT/LC09/C02/T1_L2') \\\n",
    "    .filterBounds(region) \\\n",
    "    .map(apply_scale_factors)\n",
    "  "
   ]
  },
  {
   "cell_type": "code",
   "execution_count": 20,
   "id": "087ae332",
   "metadata": {},
   "outputs": [],
   "source": [
    "# add \"SPACECRAFT_ID\" attribute to match landsat so can pull spacecraft name from chosen image\n",
    "sent2 = sent2.map(lambda x: x.set('SPACECRAFT_ID', 'Sentinel-2A'))"
   ]
  },
  {
   "cell_type": "markdown",
   "id": "a885500c",
   "metadata": {},
   "source": [
    "### Create function to get image closest to date of interest"
   ]
  },
  {
   "cell_type": "code",
   "execution_count": 7,
   "id": "e4a2c39c",
   "metadata": {},
   "outputs": [],
   "source": [
    "def date_fun(image):\n",
    "    return image.set(\n",
    "    'dateDist',\n",
    "    ee.Number(image.get('system:time_start')).subtract(dateOfInterest).abs()\n",
    "    )"
   ]
  },
  {
   "cell_type": "code",
   "execution_count": 8,
   "id": "904735a8",
   "metadata": {},
   "outputs": [
    {
     "name": "stdout",
     "output_type": "stream",
     "text": [
      "1649829600000.0\n"
     ]
    }
   ],
   "source": [
    "# Define date of interest\n",
    "\n",
    "from datetime import datetime\n",
    "\n",
    "dateOfInterest = datetime.strptime(\"2022-04-13\", '%Y-%m-%d').timestamp()*1000\n",
    "print(dateOfInterest) "
   ]
  },
  {
   "cell_type": "markdown",
   "id": "580f176d",
   "metadata": {},
   "source": [
    "### Apply function to each collection"
   ]
  },
  {
   "cell_type": "code",
   "execution_count": 22,
   "id": "cdf26622",
   "metadata": {},
   "outputs": [],
   "source": [
    "sent2sort = sent2.map(date_fun).sort('dateDist')\n",
    "\n",
    "land8sort = land8.map(date_fun).sort('dateDist')\n",
    "\n",
    "land9sort = land9.map(date_fun).sort('dateDist')"
   ]
  },
  {
   "cell_type": "code",
   "execution_count": 21,
   "id": "f23d6da6",
   "metadata": {},
   "outputs": [
    {
     "data": {
      "text/plain": [
       "{'type': 'Image',\n",
       " 'bands': [{'id': 'B1',\n",
       "   'data_type': {'type': 'PixelType',\n",
       "    'precision': 'int',\n",
       "    'min': 0,\n",
       "    'max': 65535},\n",
       "   'dimensions': [1830, 1830],\n",
       "   'crs': 'EPSG:32613',\n",
       "   'crs_transform': [60, 0, 399960, 0, -60, 4500000]},\n",
       "  {'id': 'B2',\n",
       "   'data_type': {'type': 'PixelType',\n",
       "    'precision': 'int',\n",
       "    'min': 0,\n",
       "    'max': 65535},\n",
       "   'dimensions': [10980, 10980],\n",
       "   'crs': 'EPSG:32613',\n",
       "   'crs_transform': [10, 0, 399960, 0, -10, 4500000]},\n",
       "  {'id': 'B3',\n",
       "   'data_type': {'type': 'PixelType',\n",
       "    'precision': 'int',\n",
       "    'min': 0,\n",
       "    'max': 65535},\n",
       "   'dimensions': [10980, 10980],\n",
       "   'crs': 'EPSG:32613',\n",
       "   'crs_transform': [10, 0, 399960, 0, -10, 4500000]},\n",
       "  {'id': 'B4',\n",
       "   'data_type': {'type': 'PixelType',\n",
       "    'precision': 'int',\n",
       "    'min': 0,\n",
       "    'max': 65535},\n",
       "   'dimensions': [10980, 10980],\n",
       "   'crs': 'EPSG:32613',\n",
       "   'crs_transform': [10, 0, 399960, 0, -10, 4500000]},\n",
       "  {'id': 'B5',\n",
       "   'data_type': {'type': 'PixelType',\n",
       "    'precision': 'int',\n",
       "    'min': 0,\n",
       "    'max': 65535},\n",
       "   'dimensions': [5490, 5490],\n",
       "   'crs': 'EPSG:32613',\n",
       "   'crs_transform': [20, 0, 399960, 0, -20, 4500000]},\n",
       "  {'id': 'B6',\n",
       "   'data_type': {'type': 'PixelType',\n",
       "    'precision': 'int',\n",
       "    'min': 0,\n",
       "    'max': 65535},\n",
       "   'dimensions': [5490, 5490],\n",
       "   'crs': 'EPSG:32613',\n",
       "   'crs_transform': [20, 0, 399960, 0, -20, 4500000]},\n",
       "  {'id': 'B7',\n",
       "   'data_type': {'type': 'PixelType',\n",
       "    'precision': 'int',\n",
       "    'min': 0,\n",
       "    'max': 65535},\n",
       "   'dimensions': [5490, 5490],\n",
       "   'crs': 'EPSG:32613',\n",
       "   'crs_transform': [20, 0, 399960, 0, -20, 4500000]},\n",
       "  {'id': 'B8',\n",
       "   'data_type': {'type': 'PixelType',\n",
       "    'precision': 'int',\n",
       "    'min': 0,\n",
       "    'max': 65535},\n",
       "   'dimensions': [10980, 10980],\n",
       "   'crs': 'EPSG:32613',\n",
       "   'crs_transform': [10, 0, 399960, 0, -10, 4500000]},\n",
       "  {'id': 'B8A',\n",
       "   'data_type': {'type': 'PixelType',\n",
       "    'precision': 'int',\n",
       "    'min': 0,\n",
       "    'max': 65535},\n",
       "   'dimensions': [5490, 5490],\n",
       "   'crs': 'EPSG:32613',\n",
       "   'crs_transform': [20, 0, 399960, 0, -20, 4500000]},\n",
       "  {'id': 'B9',\n",
       "   'data_type': {'type': 'PixelType',\n",
       "    'precision': 'int',\n",
       "    'min': 0,\n",
       "    'max': 65535},\n",
       "   'dimensions': [1830, 1830],\n",
       "   'crs': 'EPSG:32613',\n",
       "   'crs_transform': [60, 0, 399960, 0, -60, 4500000]},\n",
       "  {'id': 'B11',\n",
       "   'data_type': {'type': 'PixelType',\n",
       "    'precision': 'int',\n",
       "    'min': 0,\n",
       "    'max': 65535},\n",
       "   'dimensions': [5490, 5490],\n",
       "   'crs': 'EPSG:32613',\n",
       "   'crs_transform': [20, 0, 399960, 0, -20, 4500000]},\n",
       "  {'id': 'B12',\n",
       "   'data_type': {'type': 'PixelType',\n",
       "    'precision': 'int',\n",
       "    'min': 0,\n",
       "    'max': 65535},\n",
       "   'dimensions': [5490, 5490],\n",
       "   'crs': 'EPSG:32613',\n",
       "   'crs_transform': [20, 0, 399960, 0, -20, 4500000]},\n",
       "  {'id': 'AOT',\n",
       "   'data_type': {'type': 'PixelType',\n",
       "    'precision': 'int',\n",
       "    'min': 0,\n",
       "    'max': 65535},\n",
       "   'dimensions': [10980, 10980],\n",
       "   'crs': 'EPSG:32613',\n",
       "   'crs_transform': [10, 0, 399960, 0, -10, 4500000]},\n",
       "  {'id': 'WVP',\n",
       "   'data_type': {'type': 'PixelType',\n",
       "    'precision': 'int',\n",
       "    'min': 0,\n",
       "    'max': 65535},\n",
       "   'dimensions': [10980, 10980],\n",
       "   'crs': 'EPSG:32613',\n",
       "   'crs_transform': [10, 0, 399960, 0, -10, 4500000]},\n",
       "  {'id': 'SCL',\n",
       "   'data_type': {'type': 'PixelType',\n",
       "    'precision': 'int',\n",
       "    'min': 0,\n",
       "    'max': 255},\n",
       "   'dimensions': [5490, 5490],\n",
       "   'crs': 'EPSG:32613',\n",
       "   'crs_transform': [20, 0, 399960, 0, -20, 4500000]},\n",
       "  {'id': 'TCI_R',\n",
       "   'data_type': {'type': 'PixelType',\n",
       "    'precision': 'int',\n",
       "    'min': 0,\n",
       "    'max': 255},\n",
       "   'dimensions': [10980, 10980],\n",
       "   'crs': 'EPSG:32613',\n",
       "   'crs_transform': [10, 0, 399960, 0, -10, 4500000]},\n",
       "  {'id': 'TCI_G',\n",
       "   'data_type': {'type': 'PixelType',\n",
       "    'precision': 'int',\n",
       "    'min': 0,\n",
       "    'max': 255},\n",
       "   'dimensions': [10980, 10980],\n",
       "   'crs': 'EPSG:32613',\n",
       "   'crs_transform': [10, 0, 399960, 0, -10, 4500000]},\n",
       "  {'id': 'TCI_B',\n",
       "   'data_type': {'type': 'PixelType',\n",
       "    'precision': 'int',\n",
       "    'min': 0,\n",
       "    'max': 255},\n",
       "   'dimensions': [10980, 10980],\n",
       "   'crs': 'EPSG:32613',\n",
       "   'crs_transform': [10, 0, 399960, 0, -10, 4500000]},\n",
       "  {'id': 'MSK_CLDPRB',\n",
       "   'data_type': {'type': 'PixelType',\n",
       "    'precision': 'int',\n",
       "    'min': 0,\n",
       "    'max': 255},\n",
       "   'dimensions': [5490, 5490],\n",
       "   'crs': 'EPSG:32613',\n",
       "   'crs_transform': [20, 0, 399960, 0, -20, 4500000]},\n",
       "  {'id': 'MSK_SNWPRB',\n",
       "   'data_type': {'type': 'PixelType',\n",
       "    'precision': 'int',\n",
       "    'min': 0,\n",
       "    'max': 255},\n",
       "   'dimensions': [5490, 5490],\n",
       "   'crs': 'EPSG:32613',\n",
       "   'crs_transform': [20, 0, 399960, 0, -20, 4500000]},\n",
       "  {'id': 'QA10',\n",
       "   'data_type': {'type': 'PixelType',\n",
       "    'precision': 'int',\n",
       "    'min': 0,\n",
       "    'max': 65535},\n",
       "   'dimensions': [10980, 10980],\n",
       "   'crs': 'EPSG:32613',\n",
       "   'crs_transform': [10, 0, 399960, 0, -10, 4500000]},\n",
       "  {'id': 'QA20',\n",
       "   'data_type': {'type': 'PixelType',\n",
       "    'precision': 'int',\n",
       "    'min': 0,\n",
       "    'max': 4294967295},\n",
       "   'dimensions': [5490, 5490],\n",
       "   'crs': 'EPSG:32613',\n",
       "   'crs_transform': [20, 0, 399960, 0, -20, 4500000]},\n",
       "  {'id': 'QA60',\n",
       "   'data_type': {'type': 'PixelType',\n",
       "    'precision': 'int',\n",
       "    'min': 0,\n",
       "    'max': 65535},\n",
       "   'dimensions': [1830, 1830],\n",
       "   'crs': 'EPSG:32613',\n",
       "   'crs_transform': [60, 0, 399960, 0, -60, 4500000]}],\n",
       " 'version': 1651698870012085,\n",
       " 'id': 'COPERNICUS/S2_SR_HARMONIZED/20181213T175731_20181213T175729_T13TDE',\n",
       " 'properties': {'SPACECRAFT_ID': 'Sentinel-2A',\n",
       "  'DATATAKE_IDENTIFIER': 'GS2A_20181213T175731_018156_N02.11',\n",
       "  'AOT_RETRIEVAL_ACCURACY': 0,\n",
       "  'SPACECRAFT_NAME': 'Sentinel-2A',\n",
       "  'SATURATED_DEFECTIVE_PIXEL_PERCENTAGE': 0,\n",
       "  'MEAN_INCIDENCE_AZIMUTH_ANGLE_B8A': 232.739920088,\n",
       "  'CLOUD_SHADOW_PERCENTAGE': 4.632161,\n",
       "  'MEAN_SOLAR_AZIMUTH_ANGLE': 166.354110156,\n",
       "  'system:footprint': {'type': 'LinearRing',\n",
       "   'coordinates': [[-106.16614786902493, 39.65584329870389],\n",
       "    [-106.16613324094436, 39.65584277316852],\n",
       "    [-104.88645311338588, 39.66164167952078],\n",
       "    [-104.88639921253159, 39.661678146191925],\n",
       "    [-104.88633969888238, 39.661709260322105],\n",
       "    [-104.88633604609925, 39.661723988497776],\n",
       "    [-104.88467492943023, 40.650798905528404],\n",
       "    [-104.88472303875885, 40.65084047577601],\n",
       "    [-104.88476393169967, 40.65088617654661],\n",
       "    [-104.88478344271437, 40.6508889934773],\n",
       "    [-106.18317416245698, 40.64488476241013],\n",
       "    [-106.1832281922946, 40.64484765098247],\n",
       "    [-106.1832878764347, 40.64481599338681],\n",
       "    [-106.18329128695754, 40.64480116292294],\n",
       "    [-106.17466608285277, 40.15038453520969],\n",
       "    [-106.1662516117623, 39.655931577719045],\n",
       "    [-106.16620341984378, 39.655890559095525],\n",
       "    [-106.16616222787806, 39.65584532054734],\n",
       "    [-106.16614786902493, 39.65584329870389]]},\n",
       "  'VEGETATION_PERCENTAGE': 9.568963,\n",
       "  'SOLAR_IRRADIANCE_B12': 85.25,\n",
       "  'SOLAR_IRRADIANCE_B10': 367.15,\n",
       "  'SENSOR_QUALITY': 'PASSED',\n",
       "  'SOLAR_IRRADIANCE_B11': 245.59,\n",
       "  'GENERATION_TIME': 1544732827000,\n",
       "  'SOLAR_IRRADIANCE_B8A': 955.32,\n",
       "  'FORMAT_CORRECTNESS': 'PASSED',\n",
       "  'CLOUD_COVERAGE_ASSESSMENT': 10.095135,\n",
       "  'THIN_CIRRUS_PERCENTAGE': 0.000133,\n",
       "  'system:time_end': 1544724166000,\n",
       "  'WATER_VAPOUR_RETRIEVAL_ACCURACY': 0,\n",
       "  'system:time_start': 1544724166000,\n",
       "  'DATASTRIP_ID': 'S2A_OPER_MSI_L2A_DS_SGS__20181213T202707_S20181213T175729_N02.11',\n",
       "  'PROCESSING_BASELINE': '02.11',\n",
       "  'SENSING_ORBIT_NUMBER': 141,\n",
       "  'NODATA_PIXEL_PERCENTAGE': 0.001075,\n",
       "  'SENSING_ORBIT_DIRECTION': 'DESCENDING',\n",
       "  'GENERAL_QUALITY': 'PASSED',\n",
       "  'GRANULE_ID': 'L2A_T13TDE_A018156_20181213T175729',\n",
       "  'REFLECTANCE_CONVERSION_CORRECTION': 1.03123338365,\n",
       "  'MEDIUM_PROBA_CLOUDS_PERCENTAGE': 7.403094,\n",
       "  'MEAN_INCIDENCE_AZIMUTH_ANGLE_B8': 236.944624299,\n",
       "  'DATATAKE_TYPE': 'INS-NOBS',\n",
       "  'MEAN_INCIDENCE_AZIMUTH_ANGLE_B9': 232.681907204,\n",
       "  'MEAN_INCIDENCE_AZIMUTH_ANGLE_B6': 233.39959761,\n",
       "  'MEAN_INCIDENCE_AZIMUTH_ANGLE_B7': 233.078203616,\n",
       "  'MEAN_INCIDENCE_AZIMUTH_ANGLE_B4': 234.411345132,\n",
       "  'MEAN_INCIDENCE_ZENITH_ANGLE_B1': 3.88784519738,\n",
       "  'NOT_VEGETATED_PERCENTAGE': 29.958189,\n",
       "  'MEAN_INCIDENCE_AZIMUTH_ANGLE_B5': 233.842636641,\n",
       "  'RADIOMETRIC_QUALITY': 'PASSED',\n",
       "  'MEAN_INCIDENCE_AZIMUTH_ANGLE_B2': 238.284783551,\n",
       "  'MEAN_INCIDENCE_AZIMUTH_ANGLE_B3': 235.889861681,\n",
       "  'MEAN_INCIDENCE_ZENITH_ANGLE_B5': 3.58210337843,\n",
       "  'MEAN_INCIDENCE_AZIMUTH_ANGLE_B1': 232.837629447,\n",
       "  'MEAN_INCIDENCE_ZENITH_ANGLE_B4': 3.51614891559,\n",
       "  'MEAN_INCIDENCE_ZENITH_ANGLE_B3': 3.41138052215,\n",
       "  'MEAN_INCIDENCE_ZENITH_ANGLE_B2': 3.31368817321,\n",
       "  'MEAN_INCIDENCE_ZENITH_ANGLE_B9': 3.97357721697,\n",
       "  'MEAN_INCIDENCE_ZENITH_ANGLE_B8': 3.35949040474,\n",
       "  'MEAN_INCIDENCE_ZENITH_ANGLE_B7': 3.72643476225,\n",
       "  'DARK_FEATURES_PERCENTAGE': 10.419255,\n",
       "  'HIGH_PROBA_CLOUDS_PERCENTAGE': 2.691908,\n",
       "  'MEAN_INCIDENCE_ZENITH_ANGLE_B6': 3.65189629053,\n",
       "  'UNCLASSIFIED_PERCENTAGE': 8.663657,\n",
       "  'MEAN_SOLAR_ZENITH_ANGLE': 64.5509577766,\n",
       "  'MEAN_INCIDENCE_ZENITH_ANGLE_B8A': 3.80275450956,\n",
       "  'RADIATIVE_TRANSFER_ACCURACY': 0,\n",
       "  'MGRS_TILE': '13TDE',\n",
       "  'CLOUDY_PIXEL_PERCENTAGE': 10.095135,\n",
       "  'PRODUCT_ID': 'S2A_MSIL2A_20181213T175731_N0211_R141_T13TDE_20181213T202707',\n",
       "  'MEAN_INCIDENCE_ZENITH_ANGLE_B10': 3.47686325321,\n",
       "  'SOLAR_IRRADIANCE_B9': 812.92,\n",
       "  'SNOW_ICE_PERCENTAGE': 25.23047,\n",
       "  'DEGRADED_MSI_DATA_PERCENTAGE': 0,\n",
       "  'MEAN_INCIDENCE_ZENITH_ANGLE_B11': 3.63868051047,\n",
       "  'MEAN_INCIDENCE_ZENITH_ANGLE_B12': 3.81837514058,\n",
       "  'SOLAR_IRRADIANCE_B6': 1287.61,\n",
       "  'MEAN_INCIDENCE_AZIMUTH_ANGLE_B10': 234.694007239,\n",
       "  'SOLAR_IRRADIANCE_B5': 1424.64,\n",
       "  'MEAN_INCIDENCE_AZIMUTH_ANGLE_B11': 233.385413227,\n",
       "  'SOLAR_IRRADIANCE_B8': 1041.63,\n",
       "  'MEAN_INCIDENCE_AZIMUTH_ANGLE_B12': 232.597516169,\n",
       "  'SOLAR_IRRADIANCE_B7': 1162.08,\n",
       "  'SOLAR_IRRADIANCE_B2': 1959.72,\n",
       "  'SOLAR_IRRADIANCE_B1': 1884.69,\n",
       "  'SOLAR_IRRADIANCE_B4': 1512.06,\n",
       "  'GEOMETRIC_QUALITY': 'PASSED',\n",
       "  'SOLAR_IRRADIANCE_B3': 1823.24,\n",
       "  'system:asset_size': 1868606448,\n",
       "  'WATER_PERCENTAGE': 1.432171,\n",
       "  'system:index': '20181213T175731_20181213T175729_T13TDE'}}"
      ]
     },
     "execution_count": 21,
     "metadata": {},
     "output_type": "execute_result"
    }
   ],
   "source": [
    "sent2.first().getInfo()"
   ]
  },
  {
   "cell_type": "markdown",
   "id": "15f6f3ec",
   "metadata": {},
   "source": [
    "### Check that each is sorting correctly"
   ]
  },
  {
   "cell_type": "code",
   "execution_count": 23,
   "id": "786318e4",
   "metadata": {},
   "outputs": [
    {
     "data": {
      "text/plain": [
       "'2022-04-13'"
      ]
     },
     "execution_count": 23,
     "metadata": {},
     "output_type": "execute_result"
    }
   ],
   "source": [
    "sent2sort.first().date().format('YYYY-MM-dd').getInfo()\n"
   ]
  },
  {
   "cell_type": "code",
   "execution_count": 53,
   "id": "be1a9ece",
   "metadata": {},
   "outputs": [
    {
     "data": {
      "text/plain": [
       "'2021-10-02'"
      ]
     },
     "execution_count": 53,
     "metadata": {},
     "output_type": "execute_result"
    }
   ],
   "source": [
    "land8sort.first().date().format('YYYY-MM-dd').getInfo()"
   ]
  },
  {
   "cell_type": "code",
   "execution_count": 49,
   "id": "b60a41a1",
   "metadata": {},
   "outputs": [
    {
     "data": {
      "text/plain": [
       "['2021-11-12',\n",
       " '2021-11-22',\n",
       " '2021-12-04',\n",
       " '2021-12-13',\n",
       " '2021-12-20',\n",
       " '2021-12-29',\n",
       " '2022-01-05',\n",
       " '2022-01-14',\n",
       " '2022-01-30',\n",
       " '2022-02-06',\n",
       " '2022-02-15',\n",
       " '2022-02-22',\n",
       " '2022-03-03',\n",
       " '2022-03-10',\n",
       " '2022-03-19',\n",
       " '2022-03-26',\n",
       " '2022-04-04',\n",
       " '2022-04-11',\n",
       " '2022-04-20',\n",
       " '2022-04-27']"
      ]
     },
     "execution_count": 49,
     "metadata": {},
     "output_type": "execute_result"
    }
   ],
   "source": [
    "\n",
    "land9sort.aggregate_array('DATE_ACQUIRED').getInfo()"
   ]
  },
  {
   "cell_type": "markdown",
   "id": "71b5a6a3",
   "metadata": {},
   "source": [
    "### Merge datasets and sort to get most recent image of all collections"
   ]
  },
  {
   "cell_type": "code",
   "execution_count": 24,
   "id": "d39ec720",
   "metadata": {},
   "outputs": [],
   "source": [
    "collection = sent2.merge(land8).merge(land9)"
   ]
  },
  {
   "cell_type": "code",
   "execution_count": 25,
   "id": "2692e4e3",
   "metadata": {},
   "outputs": [],
   "source": [
    "collectionSort = collection.map(date_fun).sort('dateDist')"
   ]
  },
  {
   "cell_type": "code",
   "execution_count": 26,
   "id": "9faba419",
   "metadata": {},
   "outputs": [
    {
     "data": {
      "text/plain": [
       "'2022-04-13'"
      ]
     },
     "execution_count": 26,
     "metadata": {},
     "output_type": "execute_result"
    }
   ],
   "source": [
    "collectionSort.first().date().format('YYYY-MM-dd').getInfo()"
   ]
  },
  {
   "cell_type": "code",
   "execution_count": 27,
   "id": "2b140595",
   "metadata": {},
   "outputs": [
    {
     "data": {
      "text/plain": [
       "['B1',\n",
       " 'B2',\n",
       " 'B3',\n",
       " 'B4',\n",
       " 'B5',\n",
       " 'B6',\n",
       " 'B7',\n",
       " 'B8',\n",
       " 'B8A',\n",
       " 'B9',\n",
       " 'B11',\n",
       " 'B12',\n",
       " 'AOT',\n",
       " 'WVP',\n",
       " 'SCL',\n",
       " 'TCI_R',\n",
       " 'TCI_G',\n",
       " 'TCI_B',\n",
       " 'MSK_CLDPRB',\n",
       " 'MSK_SNWPRB',\n",
       " 'QA10',\n",
       " 'QA20',\n",
       " 'QA60']"
      ]
     },
     "execution_count": 27,
     "metadata": {},
     "output_type": "execute_result"
    }
   ],
   "source": [
    "collectionSort.first().bandNames().getInfo()"
   ]
  },
  {
   "cell_type": "code",
   "execution_count": 128,
   "id": "db0c790c",
   "metadata": {},
   "outputs": [
    {
     "data": {
      "text/plain": [
       "'Sentinel-2A'"
      ]
     },
     "execution_count": 128,
     "metadata": {},
     "output_type": "execute_result"
    }
   ],
   "source": [
    "collectionSort.first().get('SPACECRAFT_ID').getInfo()"
   ]
  },
  {
   "cell_type": "code",
   "execution_count": 129,
   "id": "9879c09a",
   "metadata": {},
   "outputs": [
    {
     "data": {
      "text/plain": [
       "['SR_B1',\n",
       " 'SR_B2',\n",
       " 'SR_B3',\n",
       " 'SR_B4',\n",
       " 'SR_B5',\n",
       " 'SR_B6',\n",
       " 'SR_B7',\n",
       " 'SR_QA_AEROSOL',\n",
       " 'ST_B10',\n",
       " 'ST_ATRAN',\n",
       " 'ST_CDIST',\n",
       " 'ST_DRAD',\n",
       " 'ST_EMIS',\n",
       " 'ST_EMSD',\n",
       " 'ST_QA',\n",
       " 'ST_TRAD',\n",
       " 'ST_URAD',\n",
       " 'QA_PIXEL',\n",
       " 'QA_RADSAT']"
      ]
     },
     "execution_count": 129,
     "metadata": {},
     "output_type": "execute_result"
    }
   ],
   "source": [
    "land8.first().bandNames().getInfo()"
   ]
  },
  {
   "cell_type": "markdown",
   "id": "7daa7d19",
   "metadata": {},
   "source": [
    "### Test viz parameters for each collection"
   ]
  },
  {
   "cell_type": "code",
   "execution_count": 29,
   "id": "e34c2372",
   "metadata": {},
   "outputs": [],
   "source": [
    "sentTC =  {\n",
    "    'bands' : ['B4', 'B3', 'B2'],\n",
    "    'min': 0,\n",
    "    'max': 0.3,\n",
    "    'gamma': 1.3\n",
    "}"
   ]
  },
  {
   "cell_type": "code",
   "execution_count": 28,
   "id": "42bb3091",
   "metadata": {},
   "outputs": [],
   "source": [
    "Map = geemap.Map(add_google_map = False, layer_ctrl = True)\n",
    "#center around region of interest\n",
    "Map.centerObject(region, zoom = 9)"
   ]
  },
  {
   "cell_type": "code",
   "execution_count": 30,
   "id": "02b15d1b",
   "metadata": {},
   "outputs": [
    {
     "data": {
      "application/vnd.jupyter.widget-view+json": {
       "model_id": "6d05ac7df3d74f83afd1c82ef1c7362f",
       "version_major": 2,
       "version_minor": 0
      },
      "text/plain": [
       "Map(center=[40.501466743410354, -105.53251000000024], controls=(WidgetControl(options=['position', 'transparen…"
      ]
     },
     "metadata": {},
     "output_type": "display_data"
    }
   ],
   "source": [
    "Map.addLayer(sent2.first(), sentTC, 'True Color')\n",
    "Map"
   ]
  },
  {
   "cell_type": "code",
   "execution_count": 31,
   "id": "b3f5eac4",
   "metadata": {},
   "outputs": [
    {
     "name": "stdout",
     "output_type": "stream",
     "text": [
      "                    Site source        long        lat\n",
      "0   Laramie River Tunnel   USFS -105.808214  40.667944\n",
      "1          Andrews Creek    CSU -105.666644  40.290105\n",
      "2          Bighorn Creek    CSU -105.594720  40.409582\n",
      "3              Dry Creek    CSU -105.639219  40.706316\n",
      "4         Michigan River    CSU -105.865074  40.496216\n",
      "5             Mill Creek    CSU -105.173018  40.559726\n",
      "6                6746095   USGS -105.882790  40.539982\n",
      "7                6746110   USGS -105.863900  40.561926\n",
      "8                6751150   USGS -105.338041  40.878316\n",
      "9                6751490   USGS -105.252205  40.787481\n",
      "10               6752260   USGS -105.069222  40.588083\n",
      "11               6752280   USGS -105.011365  40.551927\n",
      "12                Beaver   USFS -105.593915  40.579219\n",
      "13               Roaring   USFS -105.737387  40.716984\n",
      "14             Sevenmile   USFS -105.587764  40.705688\n",
      "15           BlackHollow   USFS -105.648952  40.698543\n",
      "16               Bennett   USFS -105.540938  40.658216\n",
      "17            Lions_Park   FoCo -105.139595  40.621334\n",
      "18        Manners_Bridge   FoCo -105.268889  40.696667\n",
      "19        Indian_Meadows   FoCo -105.539667  40.700160\n",
      "20           Poudre_Park   FoCo -105.311389  40.688333\n",
      "21    Poudre_River_Mouth   FoCo -105.223333  40.664722\n",
      "22                Rustic   FoCo -105.544942  40.699993\n",
      "23               6751145   USGS -105.367222  40.894583\n",
      "24                  Fish   USFS -105.536748  40.606953\n",
      "25         Little Beaver   USFS -105.527276  40.625461\n",
      "26               Pennock   USFS -105.544363  40.579275\n",
      "27       South Lone Pine   USFS -105.600295  40.788150\n",
      "28           Upper Sheep   USFS -105.622979  40.695226\n",
      "29       Buckhorn_Canyon   FoCo -105.312778  40.566667\n",
      "30               Deadman   USFS -105.802071  40.814465\n",
      "31                  Fall   USFS -105.867345  40.600192\n"
     ]
    }
   ],
   "source": [
    "# test adding points\n",
    "import pandas as pd\n",
    "# Read in study site csv\n",
    "sites = pd.read_csv(\"C:/Users/ccmothes/Desktop/poudrePortal/data/poudreportal_sites.csv\")\n",
    "print(sites)"
   ]
  },
  {
   "cell_type": "code",
   "execution_count": 32,
   "id": "4530e0f2",
   "metadata": {},
   "outputs": [
    {
     "data": {
      "application/vnd.jupyter.widget-view+json": {
       "model_id": "6d05ac7df3d74f83afd1c82ef1c7362f",
       "version_major": 2,
       "version_minor": 0
      },
      "text/plain": [
       "Map(bottom=24990.0, center=[40.50544628405214, -105.589599609375], controls=(WidgetControl(options=['position'…"
      ]
     },
     "metadata": {},
     "output_type": "display_data"
    }
   ],
   "source": [
    "Map.add_points_from_xy(sites, x=\"long\", y=\"lat\")\n",
    "Map"
   ]
  },
  {
   "cell_type": "code",
   "execution_count": null,
   "id": "2b376397",
   "metadata": {},
   "outputs": [],
   "source": []
  }
 ],
 "metadata": {
  "kernelspec": {
   "display_name": "Python 3 (ipykernel)",
   "language": "python",
   "name": "python3"
  },
  "language_info": {
   "codemirror_mode": {
    "name": "ipython",
    "version": 3
   },
   "file_extension": ".py",
   "mimetype": "text/x-python",
   "name": "python",
   "nbconvert_exporter": "python",
   "pygments_lexer": "ipython3",
   "version": "3.9.12"
  }
 },
 "nbformat": 4,
 "nbformat_minor": 5
}
