{
 "cells": [
  {
   "cell_type": "markdown",
   "id": "ac0cd7ee",
   "metadata": {},
   "source": [
    "# Set up code for Streamlit app that maps most recent image from Sentinel and Landsat"
   ]
  },
  {
   "cell_type": "code",
   "execution_count": 2,
   "id": "72891776",
   "metadata": {},
   "outputs": [],
   "source": [
    "import geemap\n",
    "# Authenticates and initializes Earth Engine\n",
    "import ee\n",
    "\n",
    "try:\n",
    "        ee.Initialize()\n",
    "except Exception as e:\n",
    "        ee.Authenticate()\n",
    "        ee.Initialize()\n"
   ]
  },
  {
   "cell_type": "markdown",
   "id": "e86cba74",
   "metadata": {},
   "source": [
    "### Set bounding box for region of interest"
   ]
  },
  {
   "cell_type": "code",
   "execution_count": 3,
   "id": "c6a91604",
   "metadata": {},
   "outputs": [],
   "source": [
    "region = ee.Geometry.BBox(-105.89218, 40.27989, -105.17284, 40.72316)"
   ]
  },
  {
   "cell_type": "markdown",
   "id": "45c8ad7b",
   "metadata": {},
   "source": [
    "### Get image collections for Sentinel 2 and Landsat 8 & 9"
   ]
  },
  {
   "cell_type": "code",
   "execution_count": 135,
   "id": "aecdb147",
   "metadata": {},
   "outputs": [],
   "source": [
    "# need to use Harmonized Sentinel collection because post Jan 2022 bands are different\n",
    "sent2 = ee.ImageCollection(\"COPERNICUS/S2_SR_HARMONIZED\") \\\n",
    "  .filterBounds(region) \\\n",
    "  .map(lambda img: img.divide(10000)) #for visual settings\n",
    "    \n",
    "land8 = ee.ImageCollection('LANDSAT/LC08/C02/T1_L2') \\\n",
    "    .filterBounds(region)\n",
    "\n",
    "\n",
    "land9 = ee.ImageCollection('LANDSAT/LC09/C02/T1_L2') \\\n",
    "    .filterBounds(region)\n",
    "\n",
    "# later on, consider adding cloud mask function\n",
    "  "
   ]
  },
  {
   "cell_type": "code",
   "execution_count": 136,
   "id": "b0171e6d",
   "metadata": {},
   "outputs": [],
   "source": [
    "# add \"SPACECRAFT_ID\" attribute to match landsat so can pull spacecraft name from chosen image\n",
    "sent2 = sent2.map(lambda x: x.set('SPACECRAFT_ID', 'Sentinel-2A'))"
   ]
  },
  {
   "cell_type": "markdown",
   "id": "3428afed",
   "metadata": {},
   "source": [
    "### Create function to get image closest to date of interest"
   ]
  },
  {
   "cell_type": "code",
   "execution_count": 40,
   "id": "c53f5437",
   "metadata": {},
   "outputs": [],
   "source": [
    "def date_fun(image):\n",
    "    return image.set(\n",
    "    'dateDist',\n",
    "    ee.Number(image.get('system:time_start')).subtract(dateOfInterest).abs()\n",
    "    )"
   ]
  },
  {
   "cell_type": "code",
   "execution_count": 126,
   "id": "d41d4a15",
   "metadata": {},
   "outputs": [
    {
     "name": "stdout",
     "output_type": "stream",
     "text": [
      "1649829600000.0\n"
     ]
    }
   ],
   "source": [
    "# Define date of interest\n",
    "\n",
    "from datetime import datetime\n",
    "\n",
    "dateOfInterest = datetime.strptime(\"2022-04-13\", '%Y-%m-%d').timestamp()*1000\n",
    "print(dateOfInterest) "
   ]
  },
  {
   "cell_type": "markdown",
   "id": "efb458d4",
   "metadata": {},
   "source": [
    "### Apply function to each collection"
   ]
  },
  {
   "cell_type": "code",
   "execution_count": 51,
   "id": "0cb15ea3",
   "metadata": {},
   "outputs": [],
   "source": [
    "sent2sort = sent2.map(date_fun).sort('dateDist')\n",
    "\n",
    "land8sort = land8.map(date_fun).sort('dateDist')\n",
    "\n",
    "land9sort = land9.map(date_fun).sort('dateDist')"
   ]
  },
  {
   "cell_type": "markdown",
   "id": "3589e819",
   "metadata": {},
   "source": [
    "### Check that each is sorting correctly"
   ]
  },
  {
   "cell_type": "code",
   "execution_count": 52,
   "id": "182c4abf",
   "metadata": {},
   "outputs": [
    {
     "data": {
      "text/plain": [
       "'2021-09-28'"
      ]
     },
     "execution_count": 52,
     "metadata": {},
     "output_type": "execute_result"
    }
   ],
   "source": [
    "sent2sort.first().date().format('YYYY-MM-dd').getInfo()\n"
   ]
  },
  {
   "cell_type": "code",
   "execution_count": 53,
   "id": "4c31530c",
   "metadata": {},
   "outputs": [
    {
     "data": {
      "text/plain": [
       "'2021-10-02'"
      ]
     },
     "execution_count": 53,
     "metadata": {},
     "output_type": "execute_result"
    }
   ],
   "source": [
    "land8sort.first().date().format('YYYY-MM-dd').getInfo()"
   ]
  },
  {
   "cell_type": "code",
   "execution_count": 49,
   "id": "223e608e",
   "metadata": {},
   "outputs": [
    {
     "data": {
      "text/plain": [
       "['2021-11-12',\n",
       " '2021-11-22',\n",
       " '2021-12-04',\n",
       " '2021-12-13',\n",
       " '2021-12-20',\n",
       " '2021-12-29',\n",
       " '2022-01-05',\n",
       " '2022-01-14',\n",
       " '2022-01-30',\n",
       " '2022-02-06',\n",
       " '2022-02-15',\n",
       " '2022-02-22',\n",
       " '2022-03-03',\n",
       " '2022-03-10',\n",
       " '2022-03-19',\n",
       " '2022-03-26',\n",
       " '2022-04-04',\n",
       " '2022-04-11',\n",
       " '2022-04-20',\n",
       " '2022-04-27']"
      ]
     },
     "execution_count": 49,
     "metadata": {},
     "output_type": "execute_result"
    }
   ],
   "source": [
    "\n",
    "land9sort.aggregate_array('DATE_ACQUIRED').getInfo()"
   ]
  },
  {
   "cell_type": "markdown",
   "id": "cb1ddd28",
   "metadata": {},
   "source": [
    "### Merge datasets and sort to get most recent image of all collections"
   ]
  },
  {
   "cell_type": "code",
   "execution_count": 107,
   "id": "07fd85d0",
   "metadata": {},
   "outputs": [],
   "source": [
    "collection = sent2.merge(land8).merge(land9)"
   ]
  },
  {
   "cell_type": "code",
   "execution_count": 127,
   "id": "29d9be67",
   "metadata": {},
   "outputs": [],
   "source": [
    "collectionSort = collection.map(date_fun).sort('dateDist')"
   ]
  },
  {
   "cell_type": "code",
   "execution_count": 113,
   "id": "057c8ad6",
   "metadata": {},
   "outputs": [
    {
     "data": {
      "text/plain": [
       "'2022-03-27'"
      ]
     },
     "execution_count": 113,
     "metadata": {},
     "output_type": "execute_result"
    }
   ],
   "source": [
    "collectionSort.first().date().format('YYYY-MM-dd').getInfo()"
   ]
  },
  {
   "cell_type": "code",
   "execution_count": 119,
   "id": "4dddadf5",
   "metadata": {},
   "outputs": [
    {
     "data": {
      "text/plain": [
       "['SR_B1',\n",
       " 'SR_B2',\n",
       " 'SR_B3',\n",
       " 'SR_B4',\n",
       " 'SR_B5',\n",
       " 'SR_B6',\n",
       " 'SR_B7',\n",
       " 'SR_QA_AEROSOL',\n",
       " 'ST_B10',\n",
       " 'ST_ATRAN',\n",
       " 'ST_CDIST',\n",
       " 'ST_DRAD',\n",
       " 'ST_EMIS',\n",
       " 'ST_EMSD',\n",
       " 'ST_QA',\n",
       " 'ST_TRAD',\n",
       " 'ST_URAD',\n",
       " 'QA_PIXEL',\n",
       " 'QA_RADSAT']"
      ]
     },
     "execution_count": 119,
     "metadata": {},
     "output_type": "execute_result"
    }
   ],
   "source": [
    "collectionSort.first().bandNames().getInfo()"
   ]
  },
  {
   "cell_type": "code",
   "execution_count": 128,
   "id": "9010ba68",
   "metadata": {},
   "outputs": [
    {
     "data": {
      "text/plain": [
       "'Sentinel-2A'"
      ]
     },
     "execution_count": 128,
     "metadata": {},
     "output_type": "execute_result"
    }
   ],
   "source": [
    "collectionSort.first().get('SPACECRAFT_ID').getInfo()"
   ]
  },
  {
   "cell_type": "code",
   "execution_count": 129,
   "id": "480a06a7",
   "metadata": {},
   "outputs": [
    {
     "data": {
      "text/plain": [
       "['SR_B1',\n",
       " 'SR_B2',\n",
       " 'SR_B3',\n",
       " 'SR_B4',\n",
       " 'SR_B5',\n",
       " 'SR_B6',\n",
       " 'SR_B7',\n",
       " 'SR_QA_AEROSOL',\n",
       " 'ST_B10',\n",
       " 'ST_ATRAN',\n",
       " 'ST_CDIST',\n",
       " 'ST_DRAD',\n",
       " 'ST_EMIS',\n",
       " 'ST_EMSD',\n",
       " 'ST_QA',\n",
       " 'ST_TRAD',\n",
       " 'ST_URAD',\n",
       " 'QA_PIXEL',\n",
       " 'QA_RADSAT']"
      ]
     },
     "execution_count": 129,
     "metadata": {},
     "output_type": "execute_result"
    }
   ],
   "source": [
    "land8.first().bandNames().getInfo()"
   ]
  },
  {
   "cell_type": "markdown",
   "id": "0ed6d94b",
   "metadata": {},
   "source": [
    "### Test viz parameters for each collection"
   ]
  },
  {
   "cell_type": "code",
   "execution_count": 133,
   "id": "e2fe1149",
   "metadata": {},
   "outputs": [],
   "source": [
    "sentTC =  {\n",
    "    'bands' : ['B4', 'B3', 'B2'],\n",
    "    'min': 0,\n",
    "    'max': 0.3,\n",
    "    'gamma': 1.3\n",
    "}"
   ]
  },
  {
   "cell_type": "code",
   "execution_count": 131,
   "id": "a6b1c1c9",
   "metadata": {},
   "outputs": [],
   "source": [
    "Map = geemap.Map(add_google_map = False, layer_ctrl = True)\n",
    "#center around region of interest\n",
    "Map.centerObject(region, zoom = 9)"
   ]
  },
  {
   "cell_type": "code",
   "execution_count": 137,
   "id": "f8c39ca2",
   "metadata": {},
   "outputs": [
    {
     "data": {
      "application/vnd.jupyter.widget-view+json": {
       "model_id": "6d259b61f68f41e8b23a5c8e324731ec",
       "version_major": 2,
       "version_minor": 0
      },
      "text/plain": [
       "Map(bottom=198718.0, center=[40.034975075009804, -105.12611389160156], controls=(WidgetControl(options=['posit…"
      ]
     },
     "metadata": {},
     "output_type": "display_data"
    }
   ],
   "source": [
    "Map.addLayer(sent2.first(), sentTC, 'True Color')\n",
    "Map"
   ]
  },
  {
   "cell_type": "code",
   "execution_count": 138,
   "id": "e55e147f",
   "metadata": {},
   "outputs": [],
   "source": [
    "test = sent2.merge(land8).merge(land9)"
   ]
  },
  {
   "cell_type": "code",
   "execution_count": 140,
   "id": "44f2cfc2",
   "metadata": {},
   "outputs": [
    {
     "data": {
      "text/plain": [
       "{'type': 'Image',\n",
       " 'bands': [{'id': 'B1',\n",
       "   'data_type': {'type': 'PixelType',\n",
       "    'precision': 'float',\n",
       "    'min': 0,\n",
       "    'max': 6.553500175476074},\n",
       "   'dimensions': [1830, 1830],\n",
       "   'crs': 'EPSG:32613',\n",
       "   'crs_transform': [60, 0, 399960, 0, -60, 4500000]},\n",
       "  {'id': 'B2',\n",
       "   'data_type': {'type': 'PixelType',\n",
       "    'precision': 'float',\n",
       "    'min': 0,\n",
       "    'max': 6.553500175476074},\n",
       "   'dimensions': [10980, 10980],\n",
       "   'crs': 'EPSG:32613',\n",
       "   'crs_transform': [10, 0, 399960, 0, -10, 4500000]},\n",
       "  {'id': 'B3',\n",
       "   'data_type': {'type': 'PixelType',\n",
       "    'precision': 'float',\n",
       "    'min': 0,\n",
       "    'max': 6.553500175476074},\n",
       "   'dimensions': [10980, 10980],\n",
       "   'crs': 'EPSG:32613',\n",
       "   'crs_transform': [10, 0, 399960, 0, -10, 4500000]},\n",
       "  {'id': 'B4',\n",
       "   'data_type': {'type': 'PixelType',\n",
       "    'precision': 'float',\n",
       "    'min': 0,\n",
       "    'max': 6.553500175476074},\n",
       "   'dimensions': [10980, 10980],\n",
       "   'crs': 'EPSG:32613',\n",
       "   'crs_transform': [10, 0, 399960, 0, -10, 4500000]},\n",
       "  {'id': 'B5',\n",
       "   'data_type': {'type': 'PixelType',\n",
       "    'precision': 'float',\n",
       "    'min': 0,\n",
       "    'max': 6.553500175476074},\n",
       "   'dimensions': [5490, 5490],\n",
       "   'crs': 'EPSG:32613',\n",
       "   'crs_transform': [20, 0, 399960, 0, -20, 4500000]},\n",
       "  {'id': 'B6',\n",
       "   'data_type': {'type': 'PixelType',\n",
       "    'precision': 'float',\n",
       "    'min': 0,\n",
       "    'max': 6.553500175476074},\n",
       "   'dimensions': [5490, 5490],\n",
       "   'crs': 'EPSG:32613',\n",
       "   'crs_transform': [20, 0, 399960, 0, -20, 4500000]},\n",
       "  {'id': 'B7',\n",
       "   'data_type': {'type': 'PixelType',\n",
       "    'precision': 'float',\n",
       "    'min': 0,\n",
       "    'max': 6.553500175476074},\n",
       "   'dimensions': [5490, 5490],\n",
       "   'crs': 'EPSG:32613',\n",
       "   'crs_transform': [20, 0, 399960, 0, -20, 4500000]},\n",
       "  {'id': 'B8',\n",
       "   'data_type': {'type': 'PixelType',\n",
       "    'precision': 'float',\n",
       "    'min': 0,\n",
       "    'max': 6.553500175476074},\n",
       "   'dimensions': [10980, 10980],\n",
       "   'crs': 'EPSG:32613',\n",
       "   'crs_transform': [10, 0, 399960, 0, -10, 4500000]},\n",
       "  {'id': 'B8A',\n",
       "   'data_type': {'type': 'PixelType',\n",
       "    'precision': 'float',\n",
       "    'min': 0,\n",
       "    'max': 6.553500175476074},\n",
       "   'dimensions': [5490, 5490],\n",
       "   'crs': 'EPSG:32613',\n",
       "   'crs_transform': [20, 0, 399960, 0, -20, 4500000]},\n",
       "  {'id': 'B9',\n",
       "   'data_type': {'type': 'PixelType',\n",
       "    'precision': 'float',\n",
       "    'min': 0,\n",
       "    'max': 6.553500175476074},\n",
       "   'dimensions': [1830, 1830],\n",
       "   'crs': 'EPSG:32613',\n",
       "   'crs_transform': [60, 0, 399960, 0, -60, 4500000]},\n",
       "  {'id': 'B11',\n",
       "   'data_type': {'type': 'PixelType',\n",
       "    'precision': 'float',\n",
       "    'min': 0,\n",
       "    'max': 6.553500175476074},\n",
       "   'dimensions': [5490, 5490],\n",
       "   'crs': 'EPSG:32613',\n",
       "   'crs_transform': [20, 0, 399960, 0, -20, 4500000]},\n",
       "  {'id': 'B12',\n",
       "   'data_type': {'type': 'PixelType',\n",
       "    'precision': 'float',\n",
       "    'min': 0,\n",
       "    'max': 6.553500175476074},\n",
       "   'dimensions': [5490, 5490],\n",
       "   'crs': 'EPSG:32613',\n",
       "   'crs_transform': [20, 0, 399960, 0, -20, 4500000]},\n",
       "  {'id': 'AOT',\n",
       "   'data_type': {'type': 'PixelType',\n",
       "    'precision': 'float',\n",
       "    'min': 0,\n",
       "    'max': 6.553500175476074},\n",
       "   'dimensions': [10980, 10980],\n",
       "   'crs': 'EPSG:32613',\n",
       "   'crs_transform': [10, 0, 399960, 0, -10, 4500000]},\n",
       "  {'id': 'WVP',\n",
       "   'data_type': {'type': 'PixelType',\n",
       "    'precision': 'float',\n",
       "    'min': 0,\n",
       "    'max': 6.553500175476074},\n",
       "   'dimensions': [10980, 10980],\n",
       "   'crs': 'EPSG:32613',\n",
       "   'crs_transform': [10, 0, 399960, 0, -10, 4500000]},\n",
       "  {'id': 'SCL',\n",
       "   'data_type': {'type': 'PixelType',\n",
       "    'precision': 'float',\n",
       "    'min': 0,\n",
       "    'max': 0.02550000138580799},\n",
       "   'dimensions': [5490, 5490],\n",
       "   'crs': 'EPSG:32613',\n",
       "   'crs_transform': [20, 0, 399960, 0, -20, 4500000]},\n",
       "  {'id': 'TCI_R',\n",
       "   'data_type': {'type': 'PixelType',\n",
       "    'precision': 'float',\n",
       "    'min': 0,\n",
       "    'max': 0.02550000138580799},\n",
       "   'dimensions': [10980, 10980],\n",
       "   'crs': 'EPSG:32613',\n",
       "   'crs_transform': [10, 0, 399960, 0, -10, 4500000]},\n",
       "  {'id': 'TCI_G',\n",
       "   'data_type': {'type': 'PixelType',\n",
       "    'precision': 'float',\n",
       "    'min': 0,\n",
       "    'max': 0.02550000138580799},\n",
       "   'dimensions': [10980, 10980],\n",
       "   'crs': 'EPSG:32613',\n",
       "   'crs_transform': [10, 0, 399960, 0, -10, 4500000]},\n",
       "  {'id': 'TCI_B',\n",
       "   'data_type': {'type': 'PixelType',\n",
       "    'precision': 'float',\n",
       "    'min': 0,\n",
       "    'max': 0.02550000138580799},\n",
       "   'dimensions': [10980, 10980],\n",
       "   'crs': 'EPSG:32613',\n",
       "   'crs_transform': [10, 0, 399960, 0, -10, 4500000]},\n",
       "  {'id': 'MSK_CLDPRB',\n",
       "   'data_type': {'type': 'PixelType',\n",
       "    'precision': 'float',\n",
       "    'min': 0,\n",
       "    'max': 0.02550000138580799},\n",
       "   'dimensions': [5490, 5490],\n",
       "   'crs': 'EPSG:32613',\n",
       "   'crs_transform': [20, 0, 399960, 0, -20, 4500000]},\n",
       "  {'id': 'MSK_SNWPRB',\n",
       "   'data_type': {'type': 'PixelType',\n",
       "    'precision': 'float',\n",
       "    'min': 0,\n",
       "    'max': 0.02550000138580799},\n",
       "   'dimensions': [5490, 5490],\n",
       "   'crs': 'EPSG:32613',\n",
       "   'crs_transform': [20, 0, 399960, 0, -20, 4500000]},\n",
       "  {'id': 'QA10',\n",
       "   'data_type': {'type': 'PixelType',\n",
       "    'precision': 'float',\n",
       "    'min': 0,\n",
       "    'max': 6.553500175476074},\n",
       "   'dimensions': [10980, 10980],\n",
       "   'crs': 'EPSG:32613',\n",
       "   'crs_transform': [10, 0, 399960, 0, -10, 4500000]},\n",
       "  {'id': 'QA20',\n",
       "   'data_type': {'type': 'PixelType',\n",
       "    'precision': 'float',\n",
       "    'min': 0,\n",
       "    'max': 429496.75},\n",
       "   'dimensions': [5490, 5490],\n",
       "   'crs': 'EPSG:32613',\n",
       "   'crs_transform': [20, 0, 399960, 0, -20, 4500000]},\n",
       "  {'id': 'QA60',\n",
       "   'data_type': {'type': 'PixelType',\n",
       "    'precision': 'float',\n",
       "    'min': 0,\n",
       "    'max': 6.553500175476074},\n",
       "   'dimensions': [1830, 1830],\n",
       "   'crs': 'EPSG:32613',\n",
       "   'crs_transform': [60, 0, 399960, 0, -60, 4500000]}],\n",
       " 'properties': {'SPACECRAFT_ID': 'Sentinel-2A',\n",
       "  'system:index': '1_1_20181213T175731_20181213T175729_T13TDE'}}"
      ]
     },
     "execution_count": 140,
     "metadata": {},
     "output_type": "execute_result"
    }
   ],
   "source": [
    "test.first().getInfo()"
   ]
  },
  {
   "cell_type": "code",
   "execution_count": null,
   "id": "f2d1f2f3",
   "metadata": {},
   "outputs": [],
   "source": []
  }
 ],
 "metadata": {
  "kernelspec": {
   "display_name": "Python 3 (ipykernel)",
   "language": "python",
   "name": "python3"
  },
  "language_info": {
   "codemirror_mode": {
    "name": "ipython",
    "version": 3
   },
   "file_extension": ".py",
   "mimetype": "text/x-python",
   "name": "python",
   "nbconvert_exporter": "python",
   "pygments_lexer": "ipython3",
   "version": "3.9.12"
  }
 },
 "nbformat": 4,
 "nbformat_minor": 5
}
