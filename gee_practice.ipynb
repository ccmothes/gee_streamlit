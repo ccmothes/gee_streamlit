{
 "cells": [
  {
   "cell_type": "markdown",
   "metadata": {
    "id": "LShxKSA-rwRt"
   },
   "source": [
    "# Install Earth Engine API and gee\n",
    "This code checks if the `geemap` package has been installed, and if not it will install `geemap` and its dependencies including earthengine-api, ipyleaflet, and folium.\n",
    "\n",
    "Resources: https://github.com/giswqs/geemap and https://github.com/giswqs/earthengine-py-notebooks by Qiusheng Wu \n"
   ]
  },
  {
   "cell_type": "code",
   "execution_count": 2,
   "metadata": {
    "colab": {
     "base_uri": "https://localhost:8080/",
     "height": 193
    },
    "id": "Tmuczg16ij_w",
    "outputId": "476a95a6-bac2-4057-d062-60518f20b8bb"
   },
   "outputs": [],
   "source": [
    "import geemap\n",
    "# Authenticates and initializes Earth Engine\n",
    "import ee\n",
    "\n",
    "try:\n",
    "        ee.Initialize()\n",
    "except Exception as e:\n",
    "        ee.Authenticate()\n",
    "        ee.Initialize()\n"
   ]
  },
  {
   "cell_type": "markdown",
   "metadata": {
    "id": "32wT_PXX0FZS"
   },
   "source": [
    "# Set bounding box for map and image collection\n"
   ]
  },
  {
   "cell_type": "code",
   "execution_count": 3,
   "metadata": {
    "id": "PiVs8GI4z_VK"
   },
   "outputs": [],
   "source": [
    "region = ee.Geometry.BBox(-105.89218, 40.27989, -105.17284, 40.72316)"
   ]
  },
  {
   "cell_type": "markdown",
   "metadata": {
    "id": "h023n3IwB5yS"
   },
   "source": [
    "# Get image collection"
   ]
  },
  {
   "cell_type": "code",
   "execution_count": 4,
   "metadata": {
    "id": "vDPDgIfoB_-b"
   },
   "outputs": [],
   "source": [
    "# first get today's date\n",
    "from datetime import date\n",
    "\n",
    "today = date.today()\n",
    "d1 = today.strftime(\"%Y-%m-%d\")\n",
    "\n",
    "collection = ee.ImageCollection(\"COPERNICUS/S2_SR_HARMONIZED\") \\\n",
    "  .filterDate('2021-12-30', '2022-01-30') \\\n",
    "  .filterBounds(region) \\\n",
    "  .filter(ee.Filter.lt('CLOUDY_PIXEL_PERCENTAGE', 70)) \\\n",
    "  .median()\n",
    "  #.map(maskS2clouds) \\\n",
    "  \n",
    "# median = collection.median()"
   ]
  },
  {
   "cell_type": "markdown",
   "metadata": {
    "id": "fHWnMq6oEk4X"
   },
   "source": [
    "# Set viz parameters for three different layers"
   ]
  },
  {
   "cell_type": "code",
   "execution_count": 5,
   "metadata": {
    "id": "uvCKcLUbEtBm"
   },
   "outputs": [],
   "source": [
    "# true color\n",
    "vizTC = {\n",
    "    'bands' : ['B4', 'B3', 'B2'],\n",
    "    'min': 0,\n",
    "    'max': 6000\n",
    "}\n",
    "\n",
    "vizSnow = {\n",
    "    'bands': ['MSK_SNWPRB'],\n",
    "    'min': 0,\n",
    "    'max': 1,\n",
    "    'palette': ['FFFFFF', 'FF0000']\n",
    "}\n",
    "\n",
    "vizFire = {\n",
    "    'bands': ['B12', 'B8', 'B4'],\n",
    "    'min': 600,\n",
    "    'max': 2300\n",
    "}"
   ]
  },
  {
   "cell_type": "markdown",
   "metadata": {
    "id": "Yo2dzoxj74tC"
   },
   "source": [
    "# Create an interactive map\n"
   ]
  },
  {
   "cell_type": "code",
   "execution_count": 6,
   "metadata": {
    "colab": {
     "base_uri": "https://localhost:8080/",
     "height": 820
    },
    "id": "ea0mqL0K1qGx",
    "outputId": "7cfad709-29b7-40b1-f432-b9fb1131300b"
   },
   "outputs": [
    {
     "data": {
      "application/vnd.jupyter.widget-view+json": {
       "model_id": "ab56bb8cc6544a209dc207ba0a5b1645",
       "version_major": 2,
       "version_minor": 0
      },
      "text/plain": [
       "Map(center=[40.501466743410354, -105.53251000000024], controls=(WidgetControl(options=['position', 'transparen…"
      ]
     },
     "metadata": {},
     "output_type": "display_data"
    }
   ],
   "source": [
    "Map = geemap.Map(add_google_map = False, layer_ctrl = True)\n",
    "#center around region of interest\n",
    "Map.centerObject(region, zoom = 9)\n",
    "\n",
    "Map.addLayer(collection, vizTC, 'True Color')\n",
    "Map.addLayer(collection, vizSnow, \"Snow Probability\")\n",
    "Map.addLayer(collection, vizFire, \"Wildfire\")\n",
    "Map\n",
    "\n"
   ]
  },
  {
   "cell_type": "markdown",
   "metadata": {},
   "source": [
    "# Test out Landsat 8/9"
   ]
  },
  {
   "cell_type": "code",
   "execution_count": 93,
   "metadata": {},
   "outputs": [],
   "source": [
    "land9 = ee.ImageCollection('LANDSAT/LC09/C02/T1_L2') \\\n",
    " .filterDate('2020-01-01', d1) \\\n",
    "  .filterBounds(region)\n"
   ]
  },
  {
   "cell_type": "code",
   "execution_count": 74,
   "metadata": {},
   "outputs": [
    {
     "data": {
      "text/plain": [
       "{'ALGORITHM_SOURCE_SURFACE_REFLECTANCE': 'LaSRC_1.5.0',\n",
       " 'ALGORITHM_SOURCE_SURFACE_TEMPERATURE': 'st_1.3.0',\n",
       " 'CLOUD_COVER': 15.63,\n",
       " 'CLOUD_COVER_LAND': 15.63,\n",
       " 'COLLECTION_CATEGORY': 'T1',\n",
       " 'COLLECTION_NUMBER': 2,\n",
       " 'DATA_SOURCE_AIR_TEMPERATURE': 'MODIS',\n",
       " 'DATA_SOURCE_ELEVATION': 'GLS2000',\n",
       " 'DATA_SOURCE_OZONE': 'MODIS',\n",
       " 'DATA_SOURCE_PRESSURE': 'Calculated',\n",
       " 'DATA_SOURCE_REANALYSIS': 'GEOS-5 FP-IT',\n",
       " 'DATA_SOURCE_WATER_VAPOR': 'MODIS',\n",
       " 'DATE_ACQUIRED': '2021-11-12',\n",
       " 'DATE_PRODUCT_GENERATED': 1642580930000,\n",
       " 'DATUM': 'WGS84',\n",
       " 'EARTH_SUN_DISTANCE': 0.9897287,\n",
       " 'ELLIPSOID': 'WGS84',\n",
       " 'GEOMETRIC_RMSE_MODEL': 6.349,\n",
       " 'GEOMETRIC_RMSE_MODEL_X': 4.044,\n",
       " 'GEOMETRIC_RMSE_MODEL_Y': 4.895,\n",
       " 'GEOMETRIC_RMSE_VERIFY': 3.364,\n",
       " 'GRID_CELL_SIZE_REFLECTIVE': 30,\n",
       " 'GRID_CELL_SIZE_THERMAL': 30,\n",
       " 'GROUND_CONTROL_POINTS_MODEL': 727,\n",
       " 'GROUND_CONTROL_POINTS_VERIFY': 200,\n",
       " 'GROUND_CONTROL_POINTS_VERSION': 5,\n",
       " 'IMAGE_DATE': '2021-11-12',\n",
       " 'IMAGE_QUALITY_OLI': 9,\n",
       " 'IMAGE_QUALITY_TIRS': 9,\n",
       " 'L1_DATE_PRODUCT_GENERATED': '2022-01-19T08:16:45Z',\n",
       " 'L1_LANDSAT_PRODUCT_ID': 'LC09_L1TP_033032_20211112_20220119_02_T1',\n",
       " 'L1_PROCESSING_LEVEL': 'L1TP',\n",
       " 'L1_PROCESSING_SOFTWARE_VERSION': 'LPGS_15.6.0',\n",
       " 'L1_REQUEST_ID': 'P70183t95s9kq_00013',\n",
       " 'LANDSAT_PRODUCT_ID': 'LC09_L2SP_033032_20211112_20220119_02_T1',\n",
       " 'LANDSAT_SCENE_ID': 'LC90330322021316LGN01',\n",
       " 'MAP_PROJECTION': 'UTM',\n",
       " 'NADIR_OFFNADIR': 'NADIR',\n",
       " 'NOMINAL_SCALE': 30,\n",
       " 'ORIENTATION': 'NORTH_UP',\n",
       " 'PROCESSING_LEVEL': 'L2SP',\n",
       " 'PROCESSING_SOFTWARE_VERSION': 'LPGS_15.6.0',\n",
       " 'REFLECTANCE_ADD_BAND_1': -0.2,\n",
       " 'REFLECTANCE_ADD_BAND_2': -0.2,\n",
       " 'REFLECTANCE_ADD_BAND_3': -0.2,\n",
       " 'REFLECTANCE_ADD_BAND_4': -0.2,\n",
       " 'REFLECTANCE_ADD_BAND_5': -0.2,\n",
       " 'REFLECTANCE_ADD_BAND_6': -0.2,\n",
       " 'REFLECTANCE_ADD_BAND_7': -0.2,\n",
       " 'REFLECTANCE_MULT_BAND_1': 2.75e-05,\n",
       " 'REFLECTANCE_MULT_BAND_2': 2.75e-05,\n",
       " 'REFLECTANCE_MULT_BAND_3': 2.75e-05,\n",
       " 'REFLECTANCE_MULT_BAND_4': 2.75e-05,\n",
       " 'REFLECTANCE_MULT_BAND_5': 2.75e-05,\n",
       " 'REFLECTANCE_MULT_BAND_6': 2.75e-05,\n",
       " 'REFLECTANCE_MULT_BAND_7': 2.75e-05,\n",
       " 'REFLECTIVE_LINES': 7841,\n",
       " 'REFLECTIVE_SAMPLES': 7651,\n",
       " 'REQUEST_ID': 'P70183t95s9kq_00013',\n",
       " 'ROLL_ANGLE': -0.001,\n",
       " 'SATURATION_BAND_1': 'N',\n",
       " 'SATURATION_BAND_2': 'N',\n",
       " 'SATURATION_BAND_3': 'N',\n",
       " 'SATURATION_BAND_4': 'N',\n",
       " 'SATURATION_BAND_5': 'Y',\n",
       " 'SATURATION_BAND_6': 'Y',\n",
       " 'SATURATION_BAND_7': 'Y',\n",
       " 'SATURATION_BAND_8': 'N',\n",
       " 'SATURATION_BAND_9': 'N',\n",
       " 'SCENE_CENTER_TIME': '17:38:09.6351750Z',\n",
       " 'SENSOR_ID': 'OLI_TIRS',\n",
       " 'SPACECRAFT_ID': 'LANDSAT_9',\n",
       " 'STATION_ID': 'LGN',\n",
       " 'SUN_AZIMUTH': 162.39520645,\n",
       " 'SUN_ELEVATION': 29.90356496,\n",
       " 'TARGET_WRS_PATH': 33,\n",
       " 'TARGET_WRS_ROW': 32,\n",
       " 'TEMPERATURE_ADD_BAND_ST_B10': 149,\n",
       " 'TEMPERATURE_MAXIMUM_BAND_ST_B10': 372.999941,\n",
       " 'TEMPERATURE_MINIMUM_BAND_ST_B10': 149.003418,\n",
       " 'TEMPERATURE_MULT_BAND_ST_B10': 0.00341802,\n",
       " 'THERMAL_LINES': 7841,\n",
       " 'THERMAL_SAMPLES': 7651,\n",
       " 'UTM_ZONE': 13,\n",
       " 'WRS_PATH': 33,\n",
       " 'WRS_ROW': 32,\n",
       " 'WRS_TYPE': 2,\n",
       " 'system:asset_size': '945.187446 MB',\n",
       " 'system:band_names': ['SR_B1',\n",
       "  'SR_B2',\n",
       "  'SR_B3',\n",
       "  'SR_B4',\n",
       "  'SR_B5',\n",
       "  'SR_B6',\n",
       "  'SR_B7',\n",
       "  'SR_QA_AEROSOL',\n",
       "  'ST_B10',\n",
       "  'ST_ATRAN',\n",
       "  'ST_CDIST',\n",
       "  'ST_DRAD',\n",
       "  'ST_EMIS',\n",
       "  'ST_EMSD',\n",
       "  'ST_QA',\n",
       "  'ST_TRAD',\n",
       "  'ST_URAD',\n",
       "  'QA_PIXEL',\n",
       "  'QA_RADSAT'],\n",
       " 'system:id': 'LANDSAT/LC09/C02/T1_L2/LC09_033032_20211112',\n",
       " 'system:index': 'LC09_033032_20211112',\n",
       " 'system:time_end': '2021-11-12 17:38:09',\n",
       " 'system:time_start': '2021-11-12 17:38:09',\n",
       " 'system:version': 1644892188755389}"
      ]
     },
     "execution_count": 74,
     "metadata": {},
     "output_type": "execute_result"
    }
   ],
   "source": [
    "geemap.image_props(land9.first()).getInfo()"
   ]
  },
  {
   "cell_type": "code",
   "execution_count": 75,
   "metadata": {},
   "outputs": [
    {
     "data": {
      "text/plain": [
       "20"
      ]
     },
     "execution_count": 75,
     "metadata": {},
     "output_type": "execute_result"
    }
   ],
   "source": [
    "land9.size().getInfo()"
   ]
  },
  {
   "cell_type": "code",
   "execution_count": 129,
   "metadata": {},
   "outputs": [
    {
     "name": "stdout",
     "output_type": "stream",
     "text": [
      "1651125600000.0\n"
     ]
    }
   ],
   "source": [
    "dateOfInterest = datetime.strptime(\"2022-04-28\", '%Y-%m-%d').timestamp()*1000\n",
    "print(dateOfInterest)"
   ]
  },
  {
   "cell_type": "markdown",
   "metadata": {},
   "source": [
    "## Write function to sort collection based on time (miliseconds) each image is from user specified date\n"
   ]
  },
  {
   "cell_type": "code",
   "execution_count": 130,
   "metadata": {},
   "outputs": [],
   "source": [
    "def date_fun(image):\n",
    "    return image.set(\n",
    "    'dateDist',\n",
    "    ee.Number(image.get('system:time_start')).subtract(dateOfInterest).abs()\n",
    "    )\n",
    "    "
   ]
  },
  {
   "cell_type": "markdown",
   "metadata": {},
   "source": [
    "## Test out function"
   ]
  },
  {
   "cell_type": "code",
   "execution_count": 120,
   "metadata": {},
   "outputs": [
    {
     "data": {
      "text/plain": [
       "1635087564035"
      ]
     },
     "execution_count": 120,
     "metadata": {},
     "output_type": "execute_result"
    }
   ],
   "source": [
    "ee.Number(land9.first().get('system:time_start')).subtract(dateOfInterest).abs().getInfo()\n"
   ]
  },
  {
   "cell_type": "code",
   "execution_count": 135,
   "metadata": {},
   "outputs": [],
   "source": [
    "land9 = land9.map(date_fun).sort('dateDist')"
   ]
  },
  {
   "cell_type": "markdown",
   "metadata": {},
   "source": [
    "Now check, based on date of interest the first image in land9 should now be the oldest date"
   ]
  },
  {
   "cell_type": "code",
   "execution_count": 136,
   "metadata": {},
   "outputs": [
    {
     "data": {
      "text/plain": [
       "'2022-04-27'"
      ]
     },
     "execution_count": 136,
     "metadata": {},
     "output_type": "execute_result"
    }
   ],
   "source": [
    "geemap.image_props(land9.first()).get('DATE_ACQUIRED').getInfo()\n"
   ]
  },
  {
   "cell_type": "code",
   "execution_count": 106,
   "metadata": {},
   "outputs": [
    {
     "data": {
      "text/plain": [
       "{'type': 'Image',\n",
       " 'bands': [{'id': 'SR_B1',\n",
       "   'data_type': {'type': 'PixelType',\n",
       "    'precision': 'int',\n",
       "    'min': 0,\n",
       "    'max': 65535},\n",
       "   'dimensions': [7701, 7891],\n",
       "   'crs': 'EPSG:32613',\n",
       "   'crs_transform': [30, 0, 328485, 0, -30, 4582815]},\n",
       "  {'id': 'SR_B2',\n",
       "   'data_type': {'type': 'PixelType',\n",
       "    'precision': 'int',\n",
       "    'min': 0,\n",
       "    'max': 65535},\n",
       "   'dimensions': [7701, 7891],\n",
       "   'crs': 'EPSG:32613',\n",
       "   'crs_transform': [30, 0, 328485, 0, -30, 4582815]},\n",
       "  {'id': 'SR_B3',\n",
       "   'data_type': {'type': 'PixelType',\n",
       "    'precision': 'int',\n",
       "    'min': 0,\n",
       "    'max': 65535},\n",
       "   'dimensions': [7701, 7891],\n",
       "   'crs': 'EPSG:32613',\n",
       "   'crs_transform': [30, 0, 328485, 0, -30, 4582815]},\n",
       "  {'id': 'SR_B4',\n",
       "   'data_type': {'type': 'PixelType',\n",
       "    'precision': 'int',\n",
       "    'min': 0,\n",
       "    'max': 65535},\n",
       "   'dimensions': [7701, 7891],\n",
       "   'crs': 'EPSG:32613',\n",
       "   'crs_transform': [30, 0, 328485, 0, -30, 4582815]},\n",
       "  {'id': 'SR_B5',\n",
       "   'data_type': {'type': 'PixelType',\n",
       "    'precision': 'int',\n",
       "    'min': 0,\n",
       "    'max': 65535},\n",
       "   'dimensions': [7701, 7891],\n",
       "   'crs': 'EPSG:32613',\n",
       "   'crs_transform': [30, 0, 328485, 0, -30, 4582815]},\n",
       "  {'id': 'SR_B6',\n",
       "   'data_type': {'type': 'PixelType',\n",
       "    'precision': 'int',\n",
       "    'min': 0,\n",
       "    'max': 65535},\n",
       "   'dimensions': [7701, 7891],\n",
       "   'crs': 'EPSG:32613',\n",
       "   'crs_transform': [30, 0, 328485, 0, -30, 4582815]},\n",
       "  {'id': 'SR_B7',\n",
       "   'data_type': {'type': 'PixelType',\n",
       "    'precision': 'int',\n",
       "    'min': 0,\n",
       "    'max': 65535},\n",
       "   'dimensions': [7701, 7891],\n",
       "   'crs': 'EPSG:32613',\n",
       "   'crs_transform': [30, 0, 328485, 0, -30, 4582815]},\n",
       "  {'id': 'SR_QA_AEROSOL',\n",
       "   'data_type': {'type': 'PixelType',\n",
       "    'precision': 'int',\n",
       "    'min': 0,\n",
       "    'max': 255},\n",
       "   'dimensions': [7701, 7891],\n",
       "   'crs': 'EPSG:32613',\n",
       "   'crs_transform': [30, 0, 328485, 0, -30, 4582815]},\n",
       "  {'id': 'ST_B10',\n",
       "   'data_type': {'type': 'PixelType',\n",
       "    'precision': 'int',\n",
       "    'min': 0,\n",
       "    'max': 65535},\n",
       "   'dimensions': [7701, 7891],\n",
       "   'crs': 'EPSG:32613',\n",
       "   'crs_transform': [30, 0, 328485, 0, -30, 4582815]},\n",
       "  {'id': 'ST_ATRAN',\n",
       "   'data_type': {'type': 'PixelType',\n",
       "    'precision': 'int',\n",
       "    'min': -32768,\n",
       "    'max': 32767},\n",
       "   'dimensions': [7701, 7891],\n",
       "   'crs': 'EPSG:32613',\n",
       "   'crs_transform': [30, 0, 328485, 0, -30, 4582815]},\n",
       "  {'id': 'ST_CDIST',\n",
       "   'data_type': {'type': 'PixelType',\n",
       "    'precision': 'int',\n",
       "    'min': -32768,\n",
       "    'max': 32767},\n",
       "   'dimensions': [7701, 7891],\n",
       "   'crs': 'EPSG:32613',\n",
       "   'crs_transform': [30, 0, 328485, 0, -30, 4582815]},\n",
       "  {'id': 'ST_DRAD',\n",
       "   'data_type': {'type': 'PixelType',\n",
       "    'precision': 'int',\n",
       "    'min': -32768,\n",
       "    'max': 32767},\n",
       "   'dimensions': [7701, 7891],\n",
       "   'crs': 'EPSG:32613',\n",
       "   'crs_transform': [30, 0, 328485, 0, -30, 4582815]},\n",
       "  {'id': 'ST_EMIS',\n",
       "   'data_type': {'type': 'PixelType',\n",
       "    'precision': 'int',\n",
       "    'min': -32768,\n",
       "    'max': 32767},\n",
       "   'dimensions': [7701, 7891],\n",
       "   'crs': 'EPSG:32613',\n",
       "   'crs_transform': [30, 0, 328485, 0, -30, 4582815]},\n",
       "  {'id': 'ST_EMSD',\n",
       "   'data_type': {'type': 'PixelType',\n",
       "    'precision': 'int',\n",
       "    'min': -32768,\n",
       "    'max': 32767},\n",
       "   'dimensions': [7701, 7891],\n",
       "   'crs': 'EPSG:32613',\n",
       "   'crs_transform': [30, 0, 328485, 0, -30, 4582815]},\n",
       "  {'id': 'ST_QA',\n",
       "   'data_type': {'type': 'PixelType',\n",
       "    'precision': 'int',\n",
       "    'min': -32768,\n",
       "    'max': 32767},\n",
       "   'dimensions': [7701, 7891],\n",
       "   'crs': 'EPSG:32613',\n",
       "   'crs_transform': [30, 0, 328485, 0, -30, 4582815]},\n",
       "  {'id': 'ST_TRAD',\n",
       "   'data_type': {'type': 'PixelType',\n",
       "    'precision': 'int',\n",
       "    'min': -32768,\n",
       "    'max': 32767},\n",
       "   'dimensions': [7701, 7891],\n",
       "   'crs': 'EPSG:32613',\n",
       "   'crs_transform': [30, 0, 328485, 0, -30, 4582815]},\n",
       "  {'id': 'ST_URAD',\n",
       "   'data_type': {'type': 'PixelType',\n",
       "    'precision': 'int',\n",
       "    'min': -32768,\n",
       "    'max': 32767},\n",
       "   'dimensions': [7701, 7891],\n",
       "   'crs': 'EPSG:32613',\n",
       "   'crs_transform': [30, 0, 328485, 0, -30, 4582815]},\n",
       "  {'id': 'QA_PIXEL',\n",
       "   'data_type': {'type': 'PixelType',\n",
       "    'precision': 'int',\n",
       "    'min': 0,\n",
       "    'max': 65535},\n",
       "   'dimensions': [7701, 7891],\n",
       "   'crs': 'EPSG:32613',\n",
       "   'crs_transform': [30, 0, 328485, 0, -30, 4582815]},\n",
       "  {'id': 'QA_RADSAT',\n",
       "   'data_type': {'type': 'PixelType',\n",
       "    'precision': 'int',\n",
       "    'min': 0,\n",
       "    'max': 65535},\n",
       "   'dimensions': [7701, 7891],\n",
       "   'crs': 'EPSG:32613',\n",
       "   'crs_transform': [30, 0, 328485, 0, -30, 4582815]}],\n",
       " 'id': 'LANDSAT/LC09/C02/T1_L2/LC09_034032_20211122',\n",
       " 'version': 1644897652580904,\n",
       " 'properties': {'dateDist': 1635956953327,\n",
       "  'DATA_SOURCE_ELEVATION': 'GLS2000',\n",
       "  'WRS_TYPE': 2,\n",
       "  'REFLECTANCE_ADD_BAND_1': -0.2,\n",
       "  'REFLECTANCE_ADD_BAND_2': -0.2,\n",
       "  'DATUM': 'WGS84',\n",
       "  'REFLECTANCE_ADD_BAND_3': -0.2,\n",
       "  'REFLECTANCE_ADD_BAND_4': -0.2,\n",
       "  'REFLECTANCE_ADD_BAND_5': -0.2,\n",
       "  'REFLECTANCE_ADD_BAND_6': -0.2,\n",
       "  'REFLECTANCE_ADD_BAND_7': -0.2,\n",
       "  'system:footprint': {'type': 'LinearRing',\n",
       "   'coordinates': [[-106.49754663083661, 41.22208616521445],\n",
       "    [-106.51021070832158, 41.18138671111161],\n",
       "    [-106.74236086389782, 40.42076543713754],\n",
       "    [-106.97003410523014, 39.658303802611684],\n",
       "    [-106.96335039997477, 39.65704672094686],\n",
       "    [-106.34960163854869, 39.54633029080145],\n",
       "    [-104.89231825955895, 39.268901240342764],\n",
       "    [-104.86252017905623, 39.35938034976971],\n",
       "    [-104.79611986547393, 39.560670726301396],\n",
       "    [-104.7094655651804, 39.82214453954627],\n",
       "    [-104.61367468914784, 40.1091696077903],\n",
       "    [-104.57258467357065, 40.23203513781317],\n",
       "    [-104.51247886463847, 40.410980375283245],\n",
       "    [-104.48751826337288, 40.48519712043413],\n",
       "    [-104.38272585743901, 40.795215774363136],\n",
       "    [-104.3164806722561, 40.99012867254165],\n",
       "    [-104.33369441186478, 40.99349670090183],\n",
       "    [-104.76320170592042, 41.07584901783322],\n",
       "    [-106.29537654202232, 41.354982362097076],\n",
       "    [-106.447430494479, 41.38144045813328],\n",
       "    [-106.46077377656346, 41.33959599994344],\n",
       "    [-106.49754663083661, 41.22208616521445]]},\n",
       "  'REFLECTIVE_SAMPLES': 7701,\n",
       "  'GROUND_CONTROL_POINTS_VERSION': 5,\n",
       "  'SUN_AZIMUTH': 162.58502967,\n",
       "  'UTM_ZONE': 13,\n",
       "  'DATE_ACQUIRED': '2021-11-22',\n",
       "  'ELLIPSOID': 'WGS84',\n",
       "  'system:time_end': 1637602984927,\n",
       "  'DATA_SOURCE_PRESSURE': 'Calculated',\n",
       "  'LANDSAT_PRODUCT_ID': 'LC09_L2SP_034032_20211122_20220120_02_T1',\n",
       "  'STATION_ID': 'LGN',\n",
       "  'TEMPERATURE_ADD_BAND_ST_B10': 149,\n",
       "  'DATA_SOURCE_REANALYSIS': 'GEOS-5 FP-IT',\n",
       "  'REFLECTANCE_MULT_BAND_7': 2.75e-05,\n",
       "  'system:time_start': 1637602984927,\n",
       "  'REFLECTANCE_MULT_BAND_6': 2.75e-05,\n",
       "  'L1_PROCESSING_LEVEL': 'L1TP',\n",
       "  'PROCESSING_SOFTWARE_VERSION': 'LPGS_15.6.0',\n",
       "  'L1_DATE_PRODUCT_GENERATED': '2022-01-20T03:05:20Z',\n",
       "  'ORIENTATION': 'NORTH_UP',\n",
       "  'REFLECTANCE_MULT_BAND_1': 2.75e-05,\n",
       "  'WRS_ROW': 32,\n",
       "  'REFLECTANCE_MULT_BAND_3': 2.75e-05,\n",
       "  'REFLECTANCE_MULT_BAND_2': 2.75e-05,\n",
       "  'TARGET_WRS_ROW': 32,\n",
       "  'REFLECTANCE_MULT_BAND_5': 2.75e-05,\n",
       "  'REFLECTANCE_MULT_BAND_4': 2.75e-05,\n",
       "  'THERMAL_LINES': 7891,\n",
       "  'GRID_CELL_SIZE_THERMAL': 30,\n",
       "  'IMAGE_QUALITY_TIRS': 9,\n",
       "  'NADIR_OFFNADIR': 'NADIR',\n",
       "  'CLOUD_COVER': 2.7,\n",
       "  'REQUEST_ID': 'P70184ayrjy4i_00011',\n",
       "  'EARTH_SUN_DISTANCE': 0.9875877,\n",
       "  'GEOMETRIC_RMSE_VERIFY': 3.757,\n",
       "  'COLLECTION_CATEGORY': 'T1',\n",
       "  'SCENE_CENTER_TIME': '17:43:04.9271060Z',\n",
       "  'GRID_CELL_SIZE_REFLECTIVE': 30,\n",
       "  'SUN_ELEVATION': 27.47652576,\n",
       "  'ALGORITHM_SOURCE_SURFACE_TEMPERATURE': 'st_1.3.0',\n",
       "  'TEMPERATURE_MAXIMUM_BAND_ST_B10': 372.999941,\n",
       "  'CLOUD_COVER_LAND': 2.7,\n",
       "  'GEOMETRIC_RMSE_MODEL': 6.434,\n",
       "  'ROLL_ANGLE': -0.001,\n",
       "  'COLLECTION_NUMBER': 2,\n",
       "  'DATE_PRODUCT_GENERATED': 1642648684000,\n",
       "  'L1_REQUEST_ID': 'P70184ayrjy4i_00011',\n",
       "  'DATA_SOURCE_OZONE': 'MODIS',\n",
       "  'SATURATION_BAND_1': 'Y',\n",
       "  'DATA_SOURCE_WATER_VAPOR': 'MODIS',\n",
       "  'SATURATION_BAND_2': 'Y',\n",
       "  'SATURATION_BAND_3': 'Y',\n",
       "  'IMAGE_QUALITY_OLI': 9,\n",
       "  'SATURATION_BAND_4': 'Y',\n",
       "  'LANDSAT_SCENE_ID': 'LC90340322021326LGN01',\n",
       "  'SATURATION_BAND_5': 'Y',\n",
       "  'MAP_PROJECTION': 'UTM',\n",
       "  'SATURATION_BAND_6': 'Y',\n",
       "  'SENSOR_ID': 'OLI_TIRS',\n",
       "  'SATURATION_BAND_7': 'Y',\n",
       "  'SATURATION_BAND_8': 'N',\n",
       "  'WRS_PATH': 34,\n",
       "  'L1_PROCESSING_SOFTWARE_VERSION': 'LPGS_15.6.0',\n",
       "  'SATURATION_BAND_9': 'N',\n",
       "  'TARGET_WRS_PATH': 34,\n",
       "  'L1_LANDSAT_PRODUCT_ID': 'LC09_L1TP_034032_20211122_20220120_02_T1',\n",
       "  'TEMPERATURE_MULT_BAND_ST_B10': 0.00341802,\n",
       "  'PROCESSING_LEVEL': 'L2SP',\n",
       "  'ALGORITHM_SOURCE_SURFACE_REFLECTANCE': 'LaSRC_1.5.0',\n",
       "  'GROUND_CONTROL_POINTS_MODEL': 788,\n",
       "  'SPACECRAFT_ID': 'LANDSAT_9',\n",
       "  'TEMPERATURE_MINIMUM_BAND_ST_B10': 149.003418,\n",
       "  'GEOMETRIC_RMSE_MODEL_Y': 5.203,\n",
       "  'REFLECTIVE_LINES': 7891,\n",
       "  'GEOMETRIC_RMSE_MODEL_X': 3.784,\n",
       "  'THERMAL_SAMPLES': 7701,\n",
       "  'system:asset_size': 982331369,\n",
       "  'DATA_SOURCE_AIR_TEMPERATURE': 'MODIS',\n",
       "  'GROUND_CONTROL_POINTS_VERIFY': 231,\n",
       "  'system:index': 'LC09_034032_20211122'}}"
      ]
     },
     "execution_count": 106,
     "metadata": {},
     "output_type": "execute_result"
    }
   ],
   "source": [
    "# check different images to see if sorted correctly\n",
    "land9List = land9.toList(land9.size())\n",
    "ee.Image(land9List.get(1)).getInfo()"
   ]
  },
  {
   "cell_type": "code",
   "execution_count": 124,
   "metadata": {},
   "outputs": [
    {
     "data": {
      "text/plain": [
       "[1635087564035,\n",
       " 1635951859327,\n",
       " 1636988707546,\n",
       " 1637765930709,\n",
       " 1638371100296,\n",
       " 1639148329778,\n",
       " 1639753499393,\n",
       " 1640530726448,\n",
       " 1641913128809,\n",
       " 1642518298538,\n",
       " 1643295523909,\n",
       " 1643900690041,\n",
       " 1644677913632,\n",
       " 1645283085054,\n",
       " 1646060312329,\n",
       " 1646665479934,\n",
       " 1647442708785,\n",
       " 1648047876488,\n",
       " 1648825098434,\n",
       " 1649430268470]"
      ]
     },
     "execution_count": 124,
     "metadata": {},
     "output_type": "execute_result"
    }
   ],
   "source": [
    "#print all values of dateDist\n",
    "\n",
    "land9.aggregate_array('dateDist').getInfo()\n"
   ]
  },
  {
   "cell_type": "code",
   "execution_count": 134,
   "metadata": {},
   "outputs": [
    {
     "data": {
      "text/plain": [
       "['2022-04-27',\n",
       " '2022-04-20',\n",
       " '2022-04-11',\n",
       " '2022-04-04',\n",
       " '2022-03-26',\n",
       " '2022-03-19',\n",
       " '2022-03-10',\n",
       " '2022-03-03',\n",
       " '2022-02-22',\n",
       " '2022-02-15',\n",
       " '2022-02-06',\n",
       " '2022-01-30',\n",
       " '2022-01-14',\n",
       " '2022-01-05',\n",
       " '2021-12-29',\n",
       " '2021-12-20',\n",
       " '2021-12-13',\n",
       " '2021-12-04',\n",
       " '2021-11-22',\n",
       " '2021-11-12']"
      ]
     },
     "execution_count": 134,
     "metadata": {},
     "output_type": "execute_result"
    }
   ],
   "source": [
    "land9.aggregate_array('DATE_ACQUIRED').getInfo()"
   ]
  },
  {
   "cell_type": "markdown",
   "metadata": {},
   "source": [
    "## Next Steps\n",
    "<br>\n",
    "    - Read in collection <br>\n",
    "    - (maybe future step) Combine Landsat/Sentinel collections <br>\n",
    "        OR filter each of them independently and choose one with smallest dateDist<br>\n",
    "    - Apply date_fun to each collection and sort <br>\n",
    "    - choose image with smallest dateDist and add that to map <br>\n",
    "      "
   ]
  },
  {
   "cell_type": "code",
   "execution_count": null,
   "metadata": {},
   "outputs": [],
   "source": []
  }
 ],
 "metadata": {
  "colab": {
   "name": "gee_practice.ipynb",
   "provenance": []
  },
  "kernelspec": {
   "display_name": "Python 3 (ipykernel)",
   "language": "python",
   "name": "python3"
  },
  "language_info": {
   "codemirror_mode": {
    "name": "ipython",
    "version": 3
   },
   "file_extension": ".py",
   "mimetype": "text/x-python",
   "name": "python",
   "nbconvert_exporter": "python",
   "pygments_lexer": "ipython3",
   "version": "3.9.12"
  }
 },
 "nbformat": 4,
 "nbformat_minor": 1
}
