{
 "cells": [
  {
   "cell_type": "markdown",
   "metadata": {
    "id": "LShxKSA-rwRt"
   },
   "source": [
    "# Install Earth Engine API and gee\n",
    "This code checks if the `geemap` package has been installed, and if not it will install `geemap` and its dependencies including earthengine-api, ipyleaflet, and folium.\n",
    "\n",
    "All code adapted from https://github.com/giswqs/geemap and https://github.com/giswqs/earthengine-py-notebooks by Qiusheng Wu \n"
   ]
  },
  {
   "cell_type": "code",
   "execution_count": 1,
   "metadata": {
    "colab": {
     "base_uri": "https://localhost:8080/",
     "height": 193
    },
    "id": "Tmuczg16ij_w",
    "outputId": "476a95a6-bac2-4057-d062-60518f20b8bb"
   },
   "outputs": [
    {
     "data": {
      "text/html": [
       "<p>To authorize access needed by Earth Engine, open the following\n",
       "        URL in a web browser and follow the instructions:</p>\n",
       "        <p><a href=https://code.earthengine.google.com/client-auth?scopes=https%3A//www.googleapis.com/auth/earthengine%20https%3A//www.googleapis.com/auth/devstorage.full_control&request_id=1XMETA17b1IofZo4nXFTd6A8Ha1B-7wHfx_zUUZ_aYU&tc=_dyrtMv4E826CgBiWJ6PIiHIJFYxG8VHv_Ola5F8xDc&cc=vNikgrA6f_XY36kmXM1J1AGwdIMDB_pfXHZHWLo0n0U>https://code.earthengine.google.com/client-auth?scopes=https%3A//www.googleapis.com/auth/earthengine%20https%3A//www.googleapis.com/auth/devstorage.full_control&request_id=1XMETA17b1IofZo4nXFTd6A8Ha1B-7wHfx_zUUZ_aYU&tc=_dyrtMv4E826CgBiWJ6PIiHIJFYxG8VHv_Ola5F8xDc&cc=vNikgrA6f_XY36kmXM1J1AGwdIMDB_pfXHZHWLo0n0U</a></p>\n",
       "        <p>The authorization workflow will generate a code, which you\n",
       "        should paste in the box below</p>\n",
       "        "
      ],
      "text/plain": [
       "<IPython.core.display.HTML object>"
      ]
     },
     "metadata": {},
     "output_type": "display_data"
    },
    {
     "name": "stdout",
     "output_type": "stream",
     "text": [
      "Enter verification code: 4/1AX4XfWg2DRhmbf13uRThHJYPpyGFWxybnwvIiYW8c8lyURJhW_mFmFL2Dtw\n",
      "\n",
      "Successfully saved authorization token.\n"
     ]
    }
   ],
   "source": [
    "import geemap\n",
    "# Authenticates and initializes Earth Engine\n",
    "import ee\n",
    "\n",
    "try:\n",
    "        ee.Initialize()\n",
    "except Exception as e:\n",
    "        ee.Authenticate()\n",
    "        ee.Initialize()\n"
   ]
  },
  {
   "cell_type": "markdown",
   "metadata": {
    "id": "32wT_PXX0FZS"
   },
   "source": [
    "# Set bounding box for map and image collection\n"
   ]
  },
  {
   "cell_type": "code",
   "execution_count": 2,
   "metadata": {
    "id": "PiVs8GI4z_VK"
   },
   "outputs": [],
   "source": [
    "region = ee.Geometry.BBox(-105.89218, 40.27989, -105.17284, 40.72316)"
   ]
  },
  {
   "cell_type": "markdown",
   "metadata": {
    "id": "h023n3IwB5yS"
   },
   "source": [
    "# Get image collection"
   ]
  },
  {
   "cell_type": "code",
   "execution_count": 33,
   "metadata": {
    "id": "vDPDgIfoB_-b"
   },
   "outputs": [],
   "source": [
    "# first get today's date\n",
    "from datetime import date\n",
    "\n",
    "today = date.today()\n",
    "d1 = today.strftime(\"%Y-%m-%d\")\n",
    "\n",
    "collection = ee.ImageCollection(\"COPERNICUS/S2_SR_HARMONIZED\") \\\n",
    "  .filterDate('2021-12-30', '2022-01-30') \\\n",
    "  .filterBounds(region) \\\n",
    "  .filter(ee.Filter.lt('CLOUDY_PIXEL_PERCENTAGE', 70)) \\\n",
    "  .median()\n",
    "  #.map(maskS2clouds) \\\n",
    "  \n",
    "# median = collection.median()"
   ]
  },
  {
   "cell_type": "markdown",
   "metadata": {
    "id": "fHWnMq6oEk4X"
   },
   "source": [
    "# Set viz parameters for three different layers"
   ]
  },
  {
   "cell_type": "code",
   "execution_count": 4,
   "metadata": {
    "id": "uvCKcLUbEtBm"
   },
   "outputs": [],
   "source": [
    "# true color\n",
    "vizTC = {\n",
    "    'bands' : ['B4', 'B3', 'B2'],\n",
    "    'min': 0,\n",
    "    'max': 6000\n",
    "}\n",
    "\n",
    "vizSnow = {\n",
    "    'bands': ['MSK_SNWPRB'],\n",
    "    'min': 0,\n",
    "    'max': 1,\n",
    "    'palette': ['FFFFFF', 'FF0000']\n",
    "}\n",
    "\n",
    "vizFire = {\n",
    "    'bands': ['B12', 'B8', 'B4'],\n",
    "    'min': 600,\n",
    "    'max': 2300\n",
    "}"
   ]
  },
  {
   "cell_type": "markdown",
   "metadata": {
    "id": "Yo2dzoxj74tC"
   },
   "source": [
    "# Create an interactive map\n"
   ]
  },
  {
   "cell_type": "code",
   "execution_count": 5,
   "metadata": {
    "colab": {
     "base_uri": "https://localhost:8080/",
     "height": 820
    },
    "id": "ea0mqL0K1qGx",
    "outputId": "7cfad709-29b7-40b1-f432-b9fb1131300b"
   },
   "outputs": [
    {
     "data": {
      "application/vnd.jupyter.widget-view+json": {
       "model_id": "d19be4bf0fa34914841c17857f84adff",
       "version_major": 2,
       "version_minor": 0
      },
      "text/plain": [
       "Map(center=[40.501466743410354, -105.53251000000024], controls=(WidgetControl(options=['position', 'transparen…"
      ]
     },
     "metadata": {},
     "output_type": "display_data"
    }
   ],
   "source": [
    "Map = geemap.Map(add_google_map = False, layer_ctrl = True)\n",
    "#center around region of interest\n",
    "Map.centerObject(region, zoom = 9)\n",
    "\n",
    "Map.addLayer(collection, vizTC, 'True Color')\n",
    "Map.addLayer(collection, vizSnow, \"Snow Probability\")\n",
    "Map.addLayer(collection, vizFire, \"Wildfire\")\n",
    "Map\n",
    "\n"
   ]
  },
  {
   "cell_type": "markdown",
   "metadata": {},
   "source": [
    "# Test out Landsat 8/9"
   ]
  },
  {
   "cell_type": "code",
   "execution_count": 24,
   "metadata": {},
   "outputs": [],
   "source": [
    "land9 = ee.ImageCollection('LANDSAT/LC09/C02/T1_L2') \\\n",
    " .filterDate('2020-01-01', d1) \\\n",
    "  .filterBounds(region)\n"
   ]
  },
  {
   "cell_type": "code",
   "execution_count": 15,
   "metadata": {},
   "outputs": [
    {
     "data": {
      "text/plain": [
       "{'ALGORITHM_SOURCE_SURFACE_REFLECTANCE': 'LaSRC_1.5.0',\n",
       " 'ALGORITHM_SOURCE_SURFACE_TEMPERATURE': 'st_1.3.0',\n",
       " 'CLOUD_COVER': 18.35,\n",
       " 'CLOUD_COVER_LAND': 8.48,\n",
       " 'COLLECTION_CATEGORY': 'T1',\n",
       " 'COLLECTION_NUMBER': 2,\n",
       " 'DATA_SOURCE_AIR_TEMPERATURE': 'MODIS',\n",
       " 'DATA_SOURCE_ELEVATION': 'GLS2000',\n",
       " 'DATA_SOURCE_OZONE': 'MODIS',\n",
       " 'DATA_SOURCE_PRESSURE': 'Calculated',\n",
       " 'DATA_SOURCE_REANALYSIS': 'GEOS-5 FP-IT',\n",
       " 'DATA_SOURCE_WATER_VAPOR': 'MODIS',\n",
       " 'DATE_ACQUIRED': '2022-04-20',\n",
       " 'DATE_PRODUCT_GENERATED': 1650605230000,\n",
       " 'DATUM': 'WGS84',\n",
       " 'EARTH_SUN_DISTANCE': 1.0046132,\n",
       " 'ELLIPSOID': 'WGS84',\n",
       " 'GEOMETRIC_RMSE_MODEL': 9.133,\n",
       " 'GEOMETRIC_RMSE_MODEL_X': 5.914,\n",
       " 'GEOMETRIC_RMSE_MODEL_Y': 6.959,\n",
       " 'GEOMETRIC_RMSE_VERIFY': 6.23,\n",
       " 'GRID_CELL_SIZE_REFLECTIVE': 30,\n",
       " 'GRID_CELL_SIZE_THERMAL': 30,\n",
       " 'GROUND_CONTROL_POINTS_MODEL': 209,\n",
       " 'GROUND_CONTROL_POINTS_VERIFY': 69,\n",
       " 'GROUND_CONTROL_POINTS_VERSION': 5,\n",
       " 'IMAGE_DATE': '2022-04-20',\n",
       " 'IMAGE_QUALITY_OLI': 9,\n",
       " 'IMAGE_QUALITY_TIRS': 9,\n",
       " 'L1_DATE_PRODUCT_GENERATED': '2022-04-20T19:20:08Z',\n",
       " 'L1_LANDSAT_PRODUCT_ID': 'LC09_L1TP_001005_20220420_20220420_02_T1',\n",
       " 'L1_PROCESSING_LEVEL': 'L1TP',\n",
       " 'L1_PROCESSING_SOFTWARE_VERSION': 'LPGS_15.6.0',\n",
       " 'L1_REQUEST_ID': 'P701ddngotaml_00002',\n",
       " 'LANDSAT_PRODUCT_ID': 'LC09_L2SP_001005_20220420_20220422_02_T1',\n",
       " 'LANDSAT_SCENE_ID': 'LC90010052022110LGN00',\n",
       " 'MAP_PROJECTION': 'UTM',\n",
       " 'NADIR_OFFNADIR': 'NADIR',\n",
       " 'NOMINAL_SCALE': 30,\n",
       " 'ORIENTATION': 'NORTH_UP',\n",
       " 'PROCESSING_LEVEL': 'L2SP',\n",
       " 'PROCESSING_SOFTWARE_VERSION': 'LPGS_15.6.0',\n",
       " 'REFLECTANCE_ADD_BAND_1': -0.2,\n",
       " 'REFLECTANCE_ADD_BAND_2': -0.2,\n",
       " 'REFLECTANCE_ADD_BAND_3': -0.2,\n",
       " 'REFLECTANCE_ADD_BAND_4': -0.2,\n",
       " 'REFLECTANCE_ADD_BAND_5': -0.2,\n",
       " 'REFLECTANCE_ADD_BAND_6': -0.2,\n",
       " 'REFLECTANCE_ADD_BAND_7': -0.2,\n",
       " 'REFLECTANCE_MULT_BAND_1': 2.75e-05,\n",
       " 'REFLECTANCE_MULT_BAND_2': 2.75e-05,\n",
       " 'REFLECTANCE_MULT_BAND_3': 2.75e-05,\n",
       " 'REFLECTANCE_MULT_BAND_4': 2.75e-05,\n",
       " 'REFLECTANCE_MULT_BAND_5': 2.75e-05,\n",
       " 'REFLECTANCE_MULT_BAND_6': 2.75e-05,\n",
       " 'REFLECTANCE_MULT_BAND_7': 2.75e-05,\n",
       " 'REFLECTIVE_LINES': 9121,\n",
       " 'REFLECTIVE_SAMPLES': 9121,\n",
       " 'REQUEST_ID': 'P701dgfj89x2t_00002',\n",
       " 'ROLL_ANGLE': -0.001,\n",
       " 'SATURATION_BAND_1': 'N',\n",
       " 'SATURATION_BAND_2': 'N',\n",
       " 'SATURATION_BAND_3': 'N',\n",
       " 'SATURATION_BAND_4': 'N',\n",
       " 'SATURATION_BAND_5': 'N',\n",
       " 'SATURATION_BAND_6': 'N',\n",
       " 'SATURATION_BAND_7': 'N',\n",
       " 'SATURATION_BAND_8': 'N',\n",
       " 'SATURATION_BAND_9': 'N',\n",
       " 'SCENE_CENTER_TIME': '14:08:33.4447160Z',\n",
       " 'SENSOR_ID': 'OLI_TIRS',\n",
       " 'SPACECRAFT_ID': 'LANDSAT_9',\n",
       " 'STATION_ID': 'LGN',\n",
       " 'SUN_AZIMUTH': -167.36070319,\n",
       " 'SUN_ELEVATION': 24.29853265,\n",
       " 'TARGET_WRS_PATH': 1,\n",
       " 'TARGET_WRS_ROW': 5,\n",
       " 'TEMPERATURE_ADD_BAND_ST_B10': 149,\n",
       " 'TEMPERATURE_MAXIMUM_BAND_ST_B10': 372.999941,\n",
       " 'TEMPERATURE_MINIMUM_BAND_ST_B10': 149.003418,\n",
       " 'TEMPERATURE_MULT_BAND_ST_B10': 0.00341802,\n",
       " 'THERMAL_LINES': 9121,\n",
       " 'THERMAL_SAMPLES': 9121,\n",
       " 'UTM_ZONE': 27,\n",
       " 'WRS_PATH': 1,\n",
       " 'WRS_ROW': 5,\n",
       " 'WRS_TYPE': 2,\n",
       " 'system:asset_size': '910.631047 MB',\n",
       " 'system:band_names': ['SR_B1',\n",
       "  'SR_B2',\n",
       "  'SR_B3',\n",
       "  'SR_B4',\n",
       "  'SR_B5',\n",
       "  'SR_B6',\n",
       "  'SR_B7',\n",
       "  'SR_QA_AEROSOL',\n",
       "  'ST_B10',\n",
       "  'ST_ATRAN',\n",
       "  'ST_CDIST',\n",
       "  'ST_DRAD',\n",
       "  'ST_EMIS',\n",
       "  'ST_EMSD',\n",
       "  'ST_QA',\n",
       "  'ST_TRAD',\n",
       "  'ST_URAD',\n",
       "  'QA_PIXEL',\n",
       "  'QA_RADSAT'],\n",
       " 'system:id': 'LANDSAT/LC09/C02/T1_L2/LC09_001005_20220420',\n",
       " 'system:index': 'LC09_001005_20220420',\n",
       " 'system:time_end': '2022-04-20 14:08:33',\n",
       " 'system:time_start': '2022-04-20 14:08:33',\n",
       " 'system:version': 1650639734925948}"
      ]
     },
     "execution_count": 15,
     "metadata": {},
     "output_type": "execute_result"
    }
   ],
   "source": [
    "geemap.image_props(land9.first()).getInfo()"
   ]
  },
  {
   "cell_type": "code",
   "execution_count": 25,
   "metadata": {},
   "outputs": [
    {
     "data": {
      "text/plain": [
       "19"
      ]
     },
     "execution_count": 25,
     "metadata": {},
     "output_type": "execute_result"
    }
   ],
   "source": [
    "land9.size().getInfo()"
   ]
  },
  {
   "cell_type": "markdown",
   "metadata": {},
   "source": [
    "Write function to sort collection based on time (miliseconds) each image is from user specified date\n"
   ]
  },
  {
   "cell_type": "code",
   "execution_count": 27,
   "metadata": {},
   "outputs": [],
   "source": [
    "def date_fun(image):\n",
    "    return image.set(\n",
    "    'dateDist',\n",
    "    ee.Number(image.get('system:time_start')).subtract(dateOfInterest.millis()).abs()\n",
    "    )\n",
    "    "
   ]
  },
  {
   "cell_type": "code",
   "execution_count": 66,
   "metadata": {},
   "outputs": [
    {
     "ename": "AttributeError",
     "evalue": "'datetime.date' object has no attribute 'strptime'",
     "output_type": "error",
     "traceback": [
      "\u001b[1;31m---------------------------------------------------------------------------\u001b[0m",
      "\u001b[1;31mAttributeError\u001b[0m                            Traceback (most recent call last)",
      "Input \u001b[1;32mIn [66]\u001b[0m, in \u001b[0;36m<cell line: 6>\u001b[1;34m()\u001b[0m\n\u001b[0;32m      3\u001b[0m \u001b[38;5;28;01mdef\u001b[39;00m \u001b[38;5;21mcurrent_milli_time\u001b[39m():\n\u001b[0;32m      4\u001b[0m     \u001b[38;5;28;01mreturn\u001b[39;00m \u001b[38;5;28mround\u001b[39m(time\u001b[38;5;241m.\u001b[39mtime() \u001b[38;5;241m*\u001b[39m \u001b[38;5;241m1000\u001b[39m)\n\u001b[1;32m----> 6\u001b[0m dateOfInterest \u001b[38;5;241m=\u001b[39m \u001b[43mtoday\u001b[49m\u001b[38;5;241;43m.\u001b[39;49m\u001b[43mstrptime\u001b[49m(today,\u001b[38;5;124m\"\u001b[39m\u001b[38;5;124m%\u001b[39m\u001b[38;5;124mY-\u001b[39m\u001b[38;5;124m%\u001b[39m\u001b[38;5;124mm-\u001b[39m\u001b[38;5;132;01m%d\u001b[39;00m\u001b[38;5;124m \u001b[39m\u001b[38;5;124m%\u001b[39m\u001b[38;5;124mH:\u001b[39m\u001b[38;5;124m%\u001b[39m\u001b[38;5;124mM:\u001b[39m\u001b[38;5;124m%\u001b[39m\u001b[38;5;124mS\u001b[39m\u001b[38;5;124m\"\u001b[39m)\n\u001b[0;32m      7\u001b[0m ee\u001b[38;5;241m.\u001b[39mNumber(land9\u001b[38;5;241m.\u001b[39mfirst()\u001b[38;5;241m.\u001b[39mget(\u001b[38;5;124m'\u001b[39m\u001b[38;5;124msystem:time_start\u001b[39m\u001b[38;5;124m'\u001b[39m))\u001b[38;5;241m.\u001b[39msubtract(dateOfInterest\u001b[38;5;241m.\u001b[39mcurrent_milli_time())\u001b[38;5;241m.\u001b[39mabs()\n",
      "\u001b[1;31mAttributeError\u001b[0m: 'datetime.date' object has no attribute 'strptime'"
     ]
    }
   ],
   "source": [
    "import time\n",
    "\n",
    "def current_milli_time():\n",
    "    return round(time.time() * 1000)\n",
    "\n",
    "dateOfInterest = today.strptime(today,\"%Y-%m-%d %H:%M:%S\")\n",
    "ee.Number(land9.first().get('system:time_start')).subtract(dateOfInterest.current_milli_time()).abs()"
   ]
  },
  {
   "cell_type": "code",
   "execution_count": 52,
   "metadata": {},
   "outputs": [
    {
     "data": {
      "text/plain": [
       "1636738689635"
      ]
     },
     "execution_count": 52,
     "metadata": {},
     "output_type": "execute_result"
    }
   ],
   "source": [
    "land9.first().get('system:time_start').getInfo()"
   ]
  },
  {
   "cell_type": "code",
   "execution_count": 71,
   "metadata": {},
   "outputs": [
    {
     "data": {
      "text/plain": [
       "'2022-04-27 00:00:00'"
      ]
     },
     "execution_count": 71,
     "metadata": {},
     "output_type": "execute_result"
    }
   ],
   "source": [
    "dateOfInterest"
   ]
  },
  {
   "cell_type": "code",
   "execution_count": 70,
   "metadata": {},
   "outputs": [],
   "source": [
    "dateOfInterest = today.strftime(\"%Y-%m-%d %H:%M:%S\")"
   ]
  },
  {
   "cell_type": "code",
   "execution_count": 61,
   "metadata": {},
   "outputs": [
    {
     "name": "stdout",
     "output_type": "stream",
     "text": [
      "1482251922760.0\n"
     ]
    }
   ],
   "source": [
    "from datetime import datetime\n",
    "\n",
    "dt_obj = datetime.strptime('20.12.2016 09:38:42,76',\n",
    "                           '%d.%m.%Y %H:%M:%S,%f')\n",
    "millisec = dt_obj.timestamp() * 1000\n",
    "\n",
    "print(millisec)"
   ]
  },
  {
   "cell_type": "code",
   "execution_count": 112,
   "metadata": {},
   "outputs": [
    {
     "ename": "TypeError",
     "evalue": "an integer is required (got type Date)",
     "output_type": "error",
     "traceback": [
      "\u001b[1;31m---------------------------------------------------------------------------\u001b[0m",
      "\u001b[1;31mTypeError\u001b[0m                                 Traceback (most recent call last)",
      "Input \u001b[1;32mIn [112]\u001b[0m, in \u001b[0;36m<cell line: 7>\u001b[1;34m()\u001b[0m\n\u001b[0;32m      4\u001b[0m \u001b[38;5;28mtype\u001b[39m(dImage)\n\u001b[0;32m      5\u001b[0m \u001b[38;5;28mtype\u001b[39m(dInterest)\n\u001b[1;32m----> 7\u001b[0m \u001b[43mdatetime\u001b[49m\u001b[43m(\u001b[49m\u001b[43mdImage\u001b[49m\u001b[43m)\u001b[49m\n",
      "\u001b[1;31mTypeError\u001b[0m: an integer is required (got type Date)"
     ]
    }
   ],
   "source": [
    "dImage = ee.Date(land9.first().get('system:time_start'))\n",
    "dInterest = ee.Date(\"2021-10-01\")\n",
    "\n",
    "type(dImage)\n",
    "type(dInterest)\n"
   ]
  },
  {
   "cell_type": "code",
   "execution_count": 102,
   "metadata": {},
   "outputs": [
    {
     "ename": "TypeError",
     "evalue": "unsupported operand type(s) for -: 'String' and 'String'",
     "output_type": "error",
     "traceback": [
      "\u001b[1;31m---------------------------------------------------------------------------\u001b[0m",
      "\u001b[1;31mTypeError\u001b[0m                                 Traceback (most recent call last)",
      "Input \u001b[1;32mIn [102]\u001b[0m, in \u001b[0;36m<cell line: 1>\u001b[1;34m()\u001b[0m\n\u001b[1;32m----> 1\u001b[0m (\u001b[43mdInterest\u001b[49m\u001b[43m \u001b[49m\u001b[38;5;241;43m-\u001b[39;49m\u001b[43m \u001b[49m\u001b[43mdImage\u001b[49m)\n",
      "\u001b[1;31mTypeError\u001b[0m: unsupported operand type(s) for -: 'String' and 'String'"
     ]
    }
   ],
   "source": [
    "(dInterest - dImage)\n"
   ]
  },
  {
   "cell_type": "code",
   "execution_count": 91,
   "metadata": {},
   "outputs": [
    {
     "ename": "AttributeError",
     "evalue": "'ImageCollection' object has no attribute 'last'",
     "output_type": "error",
     "traceback": [
      "\u001b[1;31m---------------------------------------------------------------------------\u001b[0m",
      "\u001b[1;31mAttributeError\u001b[0m                            Traceback (most recent call last)",
      "Input \u001b[1;32mIn [91]\u001b[0m, in \u001b[0;36m<cell line: 1>\u001b[1;34m()\u001b[0m\n\u001b[1;32m----> 1\u001b[0m \u001b[43mland9\u001b[49m\u001b[38;5;241;43m.\u001b[39;49m\u001b[43mlast\u001b[49m()\n",
      "\u001b[1;31mAttributeError\u001b[0m: 'ImageCollection' object has no attribute 'last'"
     ]
    }
   ],
   "source": []
  }
 ],
 "metadata": {
  "colab": {
   "name": "gee_practice.ipynb",
   "provenance": []
  },
  "kernelspec": {
   "display_name": "Python 3 (ipykernel)",
   "language": "python",
   "name": "python3"
  },
  "language_info": {
   "codemirror_mode": {
    "name": "ipython",
    "version": 3
   },
   "file_extension": ".py",
   "mimetype": "text/x-python",
   "name": "python",
   "nbconvert_exporter": "python",
   "pygments_lexer": "ipython3",
   "version": "3.9.12"
  }
 },
 "nbformat": 4,
 "nbformat_minor": 1
}
